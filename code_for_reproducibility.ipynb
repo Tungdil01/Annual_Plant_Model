{
 "cells": [
  {
   "cell_type": "markdown",
   "metadata": {},
   "source": [
    "### The code replicates Table 1 of Yenni et al. (2012):\n",
    "#### - keeps the parameters' variations from the code\n",
    "#### - restricts S1 >= 1 & S2 >= 1\n",
    "#### - extinction criterion N<1\n",
    "#### - keeps the truncated values\n",
    "\n",
    "#### Author's original code: https://github.com/gmyenni/RareStabilizationSimulation"
   ]
  },
  {
   "cell_type": "code",
   "execution_count": 1,
   "metadata": {},
   "outputs": [],
   "source": [
    "import os\n",
    "import warnings\n",
    "import pandas as pd\n",
    "import numpy as np\n",
    "import matplotlib.pyplot as plt\n",
    "import statsmodels.api as sm\n",
    "from statsmodels.stats.proportion import proportion_confint"
   ]
  },
  {
   "cell_type": "markdown",
   "metadata": {},
   "source": [
    "# analyN_function.r"
   ]
  },
  {
   "cell_type": "code",
   "execution_count": 2,
   "metadata": {},
   "outputs": [],
   "source": [
    "def analyN(r1, r2, a11, a12, a21, a22):\n",
    "    N1 = (r1 - 1 - (a12 / a22) * (r2 - 1)) / (a11 - a21 * a12 / a22)\n",
    "    N2 = (r2 - 1 - (a21 / a11) * (r1 - 1)) / (a22 - a21 * a12 / a11)\n",
    "    if np.isinf(N1) or np.isinf(N2) or np.isnan(N1) or np.isnan(N2):\n",
    "        initialNsp1 = 0\n",
    "        initialNsp2 = 0\n",
    "        N = np.zeros((100, 2))\n",
    "        N[0, :] = [initialNsp1, initialNsp2]\n",
    "        for i in range(1, 100):\n",
    "            N[i, 0] = max((r1 - 1 - a12 * N[i-1, 1]) / a11, 0)\n",
    "            N[i, 1] = max((r2 - 1 - a21 * N[i-1, 0]) / a22, 0)\n",
    "        N1 = np.mean(N[:, 0])\n",
    "        N2 = np.mean(N[:, 1])\n",
    "    if N1 < 0 and N2 >= 0:\n",
    "        N1 = 0\n",
    "        N2 = (r2 - 1) / a22\n",
    "    elif N2 < 0 and N1 >= 0:\n",
    "        N2 = 0\n",
    "        N1 = (r1 - 1) / a11\n",
    "    return N1, N2"
   ]
  },
  {
   "cell_type": "markdown",
   "metadata": {},
   "source": [
    "# getNFD.r"
   ]
  },
  {
   "cell_type": "code",
   "execution_count": 3,
   "metadata": {},
   "outputs": [],
   "source": [
    "def SOS(r1, r2, a11, a12, a21, a22):\n",
    "    S1 = r2 / (1 + (a12 / a22) * (r2 - 1))\n",
    "    S2 = r1 / (1 + (a21 / a11) * (r1 - 1))\n",
    "    return S1, S2\n",
    "\n",
    "def getPCG(r1, r2, a11, a12, a21, a22, N1, N2):\n",
    "    N1_next = r1 * N1 / (1 + a11 * N1 + a12 * N2)\n",
    "    N2_next = r2 * N2 / (1 + a21 * N1 + a22 * N2)\n",
    "    pcg1 = np.log(N1_next) - np.log(N1)\n",
    "    pcg2 = np.log(N2_next) - np.log(N2)\n",
    "    return pcg1, pcg2\n",
    "\n",
    "def getEqDensity(species, r1, r2, a11, a12, a21, a22, N_star):\n",
    "    if species == 1:\n",
    "        return (r2 - 1 - a21 * N_star) / a22\n",
    "    elif species == 2:\n",
    "        return (r1 - 1 - a12 * N_star) / a11\n",
    "    else:\n",
    "        raise ValueError(\"species must be 1 or 2\")\n",
    "\n",
    "def calculate_metrics(r1, r2, a11, a12, a21, a22, N1, N2):\n",
    "    CoexistRank = 0 if N1 < 1 else 1\n",
    "    S1, S2 = SOS(r1, r2, a11, a12, a21, a22) # Strength of Stabilization\n",
    "    E1, E2 = r1 / r2, r2 / r1  # Fitness equivalence\n",
    "    Asy = S1 - S2  # Asymmetry\n",
    "    Rare = 0 if N1 == 0 and N2 == 0 else N1 / (N1 + N2)\n",
    "    # Calculating covariance:\n",
    "    x = np.array([N1, N2])\n",
    "    y = np.array([S1, S2])\n",
    "    cor_matrix = np.cov(x, y)\n",
    "    cor = cor_matrix[0, 1]  # Extracting the covariance between N and S\n",
    "    Rank = 0 if N1 == 0 and N2 == 0 else (2 if N1 / (N1 + N2) <= 0.25 else 1)\n",
    "    return CoexistRank, E1, S1, E2, S2, Asy, cor, Rare, Rank"
   ]
  },
  {
   "cell_type": "markdown",
   "metadata": {},
   "source": [
    "# annualplant_2spp_det_par.r"
   ]
  },
  {
   "cell_type": "code",
   "execution_count": 4,
   "metadata": {},
   "outputs": [
    {
     "name": "stderr",
     "output_type": "stream",
     "text": [
      "/tmp/ipykernel_26671/1047130576.py:2: RuntimeWarning: divide by zero encountered in scalar divide\n",
      "  N1 = (r1 - 1 - (a12 / a22) * (r2 - 1)) / (a11 - a21 * a12 / a22)\n",
      "/tmp/ipykernel_26671/1047130576.py:3: RuntimeWarning: divide by zero encountered in scalar divide\n",
      "  N2 = (r2 - 1 - (a21 / a11) * (r1 - 1)) / (a22 - a21 * a12 / a11)\n",
      "/tmp/ipykernel_26671/1047130576.py:2: RuntimeWarning: invalid value encountered in scalar divide\n",
      "  N1 = (r1 - 1 - (a12 / a22) * (r2 - 1)) / (a11 - a21 * a12 / a22)\n",
      "/tmp/ipykernel_26671/1047130576.py:3: RuntimeWarning: invalid value encountered in scalar divide\n",
      "  N2 = (r2 - 1 - (a21 / a11) * (r1 - 1)) / (a22 - a21 * a12 / a11)\n"
     ]
    }
   ],
   "source": [
    "def preprocess_data():\n",
    "    # Defines frequency-dependent parameters\n",
    "    r1_v = np.arange(15, 21)\n",
    "    r2_v = np.arange(15, 21)\n",
    "    a11_v = np.array([0.1, 0.3, 0.5, 0.7, 0.9, 1, 1.5, 2, 2.5, 3])\n",
    "    a12_v = np.array([0.1, 0.3, 0.5, 0.7, 0.9, 1])\n",
    "    a21_v = np.array([0.1, 0.3, 0.5, 0.7, 0.9, 1])\n",
    "    a22_v = np.array([0.1, 0.3, 0.5, 0.7, 0.9, 1])\n",
    "    # Generate all combinations of parameters using NumPy's meshgrid\n",
    "    mesh = np.array(np.meshgrid(r1_v, r2_v, a11_v, a12_v, a21_v, a22_v)).T.reshape(-1, 6)\n",
    "    return mesh\n",
    "\n",
    "def Sim(k, mesh_row):\n",
    "    r1, r2, a11, a12, a21, a22 = mesh_row\n",
    "    N1, N2 = analyN(r1, r2, a11, a12, a21, a22)\n",
    "    CoexistRank, E1, E2, S1, S2, Asy, cov, Rare, Rank = calculate_metrics(r1, r2, a11, a12, a21, a22, N1, N2)\n",
    "    return np.array([r1, r2, a11, a12, a21, a22, N1, N2, E1, E2, S1, S2, Rank, CoexistRank, Asy, cov, Rare])\n",
    "\n",
    "def postprocess_results(results, outfile):\n",
    "    column_order = ['r1', 'r2', 'a11', 'a12', 'a21', 'a22', 'N1', 'N2', 'E1', 'S1', 'E2', 'S2', 'Rank', 'CoexistRank', 'Asy', 'cor', 'Rare']\n",
    "    simul = pd.DataFrame(results, columns=column_order)\n",
    "    simul.to_csv(outfile, index=False)\n",
    "\n",
    "if __name__ == \"__main__\":\n",
    "    os.makedirs('csv', exist_ok=True)\n",
    "    outfile = \"csv/annplant_2spp_det_rare.csv\"\n",
    "    mesh = preprocess_data()\n",
    "    results = np.empty((len(mesh), 17), dtype=float)\n",
    "    # Run the simulation for each row in the parameter combination mesh\n",
    "    for k in range(len(mesh)):\n",
    "        results[k] = Sim(k, mesh[k])\n",
    "    postprocess_results(results, outfile)"
   ]
  },
  {
   "cell_type": "markdown",
   "metadata": {},
   "source": [
    "# cor_figure.r"
   ]
  },
  {
   "cell_type": "code",
   "execution_count": 5,
   "metadata": {},
   "outputs": [],
   "source": [
    "def cor_figure():\n",
    "    dat_det = pd.read_csv(\"csv/annplant_2spp_det_rare.csv\")\n",
    "    dat_det = dat_det.query('Rank == 2 & S1 >= 1 & S2 >= 1').copy() # Apply filter\n",
    "    dat_det.reset_index(drop=True, inplace=True)\n",
    "    dat_det = np.trunc(dat_det * 100) / 100.0  # Truncate to two decimals\n",
    "    dat_det.sort_values(by=['a22', 'a21', 'a12', 'a11', 'r2', 'r1'], inplace=True)\n",
    "    dat_det.to_csv(\"csv/annplant_2spp_det_rare_filtered.csv\", index=False)"
   ]
  },
  {
   "cell_type": "markdown",
   "metadata": {},
   "source": [
    "# figures_det.r"
   ]
  },
  {
   "cell_type": "code",
   "execution_count": 6,
   "metadata": {},
   "outputs": [],
   "source": [
    "def perform_logistic_regression(dat):\n",
    "    predictors = ['S1', 'E1', 'cor']\n",
    "    X = sm.add_constant(dat[predictors])\n",
    "    y = dat['CoexistRank']\n",
    "    model = sm.GLM(y, X, family=sm.families.Binomial())\n",
    "    result = model.fit()\n",
    "    print(result.summary())\n",
    "    return result\n",
    "\n",
    "def calculate_proportions(dat, correlation_column):\n",
    "    proportions = {}\n",
    "    proportions[f'positive_coexistence'] = len(dat[(dat[correlation_column] >= 0) & (dat['CoexistRank'] == 1)])\n",
    "    proportions[f'positive_exclusion'] = len(dat[(dat[correlation_column] >= 0) & (dat['CoexistRank'] == 0)])\n",
    "    proportions[f'negative_coexistence'] = len(dat[(dat[correlation_column] < 0) & (dat['CoexistRank'] == 1)])\n",
    "    proportions[f'negative_exclusion'] = len(dat[(dat[correlation_column] < 0) & (dat['CoexistRank'] == 0)])\n",
    "    return proportions\n",
    "\n",
    "def report_coexistence_analysis(proportions, correlation_column):\n",
    "    pos_total = proportions['positive_coexistence'] + proportions['positive_exclusion']\n",
    "    neg_total = proportions['negative_coexistence'] + proportions['negative_exclusion']\n",
    "    neg_confint = proportion_confint(count=proportions['negative_coexistence'], nobs=neg_total, alpha=0.05,  method='wilson')\n",
    "    pos_confint = proportion_confint(count=proportions['positive_coexistence'], nobs=pos_total, alpha=0.05,  method='wilson')\n",
    "    print(f\"\\nAnalysis on Negative \\u03BD for {correlation_column.upper()}:\")\n",
    "    print(f\"Proportion of coexistence with \\u03BD \\u2265 0: {proportions['positive_coexistence'] / pos_total:.2g} (95% CI: ({pos_confint[0]:.2g}, {pos_confint[1]:.2g}))\")\n",
    "    print(f\"Proportion of coexistence with \\u03BD < 0: {proportions['negative_coexistence'] / neg_total:.2g} (95% CI: ({neg_confint[0]:.2g}, {neg_confint[1]:.2g}))\")\n",
    "\n",
    "def analyze_coexistence_effect(file_path):\n",
    "    dat = pd.read_csv(file_path)\n",
    "    correlation_column = 'cor'\n",
    "    print(f\"\\n--- Coexistence Analysis ---\")\n",
    "    # Logistic Regression\n",
    "    result = perform_logistic_regression(dat)\n",
    "    # Proportion calculations\n",
    "    proportions = calculate_proportions(dat, correlation_column)\n",
    "    # Create and print table\n",
    "    table_data = {\n",
    "        '\\u03BD \\u2265 0': [proportions['positive_coexistence'], proportions['positive_exclusion']],\n",
    "        '\\u03BD < 0': [proportions['negative_coexistence'], proportions['negative_exclusion']]\n",
    "    }\n",
    "    table_df = pd.DataFrame(table_data, index=['Coexistence', 'Exclusion'])\n",
    "    print(\"\\nCoexistence and Exclusion based on \\u03BD:\\n\", table_df)\n",
    "    # Report proportions with CI\n",
    "    report_coexistence_analysis(proportions, correlation_column)\n",
    "    # Confidence intervals for decision logic\n",
    "    pos_total = proportions['positive_coexistence'] + proportions['positive_exclusion']\n",
    "    neg_total = proportions['negative_coexistence'] + proportions['negative_exclusion']\n",
    "    pos_confint = proportion_confint(count=proportions['positive_coexistence'], nobs=pos_total, alpha=0.05, method='wilson')\n",
    "    neg_confint = proportion_confint(count=proportions['negative_coexistence'], nobs=neg_total, alpha=0.05, method='wilson')\n",
    "    # Decision logic\n",
    "    if neg_confint[1] >= pos_confint[0] and neg_confint[0] <= pos_confint[1]:\n",
    "        print(\"The confidence intervals overlap, indicating they are statistically the same, \"\n",
    "              \"not supporting the authors' results.\")\n",
    "    elif neg_confint[1] > pos_confint[0]:\n",
    "        print(\"Higher coexistence observed with \\u03BD < 0, supporting the authors' results.\")\n",
    "    else:\n",
    "        print(\"Higher coexistence observed with \\u03BD \\u2265 0, not supporting the authors' results.\")\n",
    "    return result"
   ]
  },
  {
   "cell_type": "code",
   "execution_count": 7,
   "metadata": {},
   "outputs": [
    {
     "name": "stdout",
     "output_type": "stream",
     "text": [
      "Original Results by Yenni et al. (2012)\n",
      "\n",
      "--- Coexistence Analysis ---\n",
      "                 Generalized Linear Model Regression Results                  \n",
      "==============================================================================\n",
      "Dep. Variable:            CoexistRank   No. Observations:                18056\n",
      "Model:                            GLM   Df Residuals:                    18052\n",
      "Model Family:                Binomial   Df Model:                            3\n",
      "Link Function:                  Logit   Scale:                          1.0000\n",
      "Method:                          IRLS   Log-Likelihood:                -3507.3\n",
      "Date:                Wed, 02 Jul 2025   Deviance:                       7014.6\n",
      "Time:                        11:38:31   Pearson chi2:                 2.76e+04\n",
      "No. Iterations:                    10   Pseudo R-squ. (CS):             0.6117\n",
      "Covariance Type:            nonrobust                                         \n",
      "==============================================================================\n",
      "                 coef    std err          z      P>|z|      [0.025      0.975]\n",
      "------------------------------------------------------------------------------\n",
      "const        -42.6373      0.795    -53.621      0.000     -44.196     -41.079\n",
      "S1            17.7671      0.358     49.608      0.000      17.065      18.469\n",
      "E1            23.8327      0.473     50.431      0.000      22.906      24.759\n",
      "cor           -0.0065      0.000    -15.129      0.000      -0.007      -0.006\n",
      "==============================================================================\n",
      "\n",
      "Coexistence and Exclusion based on ν:\n",
      "              ν ≥ 0  ν < 0\n",
      "Coexistence   9848   1228\n",
      "Exclusion     6905     75\n",
      "\n",
      "Analysis on Negative ν for COR:\n",
      "Proportion of coexistence with ν ≥ 0: 0.59 (95% CI: (0.58, 0.6))\n",
      "Proportion of coexistence with ν < 0: 0.94 (95% CI: (0.93, 0.95))\n",
      "Higher coexistence observed with ν < 0, supporting the authors' results.\n",
      "\n",
      "Reproduction of the Authors' Results\n",
      "\n",
      "Figures Examples:\n",
      "\n",
      "--- Coexistence Analysis ---\n",
      "                 Generalized Linear Model Regression Results                  \n",
      "==============================================================================\n",
      "Dep. Variable:            CoexistRank   No. Observations:                18001\n",
      "Model:                            GLM   Df Residuals:                    17997\n",
      "Model Family:                Binomial   Df Model:                            3\n",
      "Link Function:                  Logit   Scale:                          1.0000\n",
      "Method:                          IRLS   Log-Likelihood:                -3500.7\n",
      "Date:                Wed, 02 Jul 2025   Deviance:                       7001.4\n",
      "Time:                        11:38:31   Pearson chi2:                 2.77e+04\n",
      "No. Iterations:                    10   Pseudo R-squ. (CS):             0.6120\n",
      "Covariance Type:            nonrobust                                         \n",
      "==============================================================================\n",
      "                 coef    std err          z      P>|z|      [0.025      0.975]\n",
      "------------------------------------------------------------------------------\n",
      "const        -42.5953      0.795    -53.551      0.000     -44.154     -41.036\n",
      "S1            17.7205      0.358     49.522      0.000      17.019      18.422\n",
      "E1            23.8300      0.473     50.385      0.000      22.903      24.757\n",
      "cor           -0.0065      0.000    -15.042      0.000      -0.007      -0.006\n",
      "==============================================================================\n",
      "\n",
      "Coexistence and Exclusion based on ν:\n",
      "              ν ≥ 0  ν < 0\n",
      "Coexistence   9780   1237\n",
      "Exclusion     6900     84\n",
      "\n",
      "Analysis on Negative ν for COR:\n",
      "Proportion of coexistence with ν ≥ 0: 0.59 (95% CI: (0.58, 0.59))\n",
      "Proportion of coexistence with ν < 0: 0.94 (95% CI: (0.92, 0.95))\n",
      "Higher coexistence observed with ν < 0, supporting the authors' results.\n"
     ]
    }
   ],
   "source": [
    "def main():\n",
    "    warnings.filterwarnings(\"ignore\")\n",
    "    output_file = \"csv/annplant_2spp_det_rare_filtered.csv\"\n",
    "    data_grid = preprocess_data()\n",
    "    simulations = np.array([Sim(k, row) for k, row in enumerate(data_grid)])\n",
    "    postprocess_results(simulations, output_file)\n",
    "    cor_figure()  # apply filters\n",
    "    yenni_file = \"csv/annplant_2spp_det_rare.txt\"\n",
    "    if os.path.exists(yenni_file):\n",
    "        print(\"Original Results by Yenni et al. (2012)\")\n",
    "        analyze_coexistence_effect(yenni_file)\n",
    "    else:\n",
    "        print(f\"File not found: {os.path.abspath(yenni_file)}. To include original Yenni et al. (2012) results, please copy 'annplant_2spp_det_rare.txt' into this directory. Skipping.\")\n",
    "    print(\"\\nReproduction of the Authors' Results\")\n",
    "    print(\"\\nFigures Examples:\")\n",
    "    analyze_coexistence_effect(output_file)\n",
    "\n",
    "if __name__ == \"__main__\":\n",
    "    main()"
   ]
  }
 ],
 "metadata": {
  "jupytext": {
   "formats": "ipynb,py:light"
  },
  "kernelspec": {
   "display_name": "Python 3 (ipykernel)",
   "language": "python",
   "name": "python3"
  },
  "language_info": {
   "codemirror_mode": {
    "name": "ipython",
    "version": 3
   },
   "file_extension": ".py",
   "mimetype": "text/x-python",
   "name": "python",
   "nbconvert_exporter": "python",
   "pygments_lexer": "ipython3",
   "version": "3.11.9"
  }
 },
 "nbformat": 4,
 "nbformat_minor": 4
}
