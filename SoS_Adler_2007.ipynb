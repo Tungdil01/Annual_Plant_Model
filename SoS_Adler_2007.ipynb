{
 "cells": [
  {
   "cell_type": "markdown",
   "metadata": {},
   "source": [
    "### The code aims to modify the analysis of Yenni et al. (2012):\n",
    "#### - corrected the SoS calculation\n",
    "#### - kept the parameters' variations from the code\n",
    "#### - removed the additional filter S1 >= 1 & S2 >= 1\n",
    "#### - kept the truncated the values\n",
    "\n",
    "#### their original code: https://github.com/gmyenni/RareStabilizationSimulation"
   ]
  },
  {
   "cell_type": "code",
   "execution_count": 1,
   "metadata": {},
   "outputs": [],
   "source": [
    "import pandas as pd\n",
    "import numpy as np\n",
    "import matplotlib.pyplot as plt\n",
    "import statsmodels.api as sm\n",
    "from statsmodels.stats.proportion import proportion_confint\n",
    "from scipy import stats\n",
    "from scipy.stats import ttest_ind\n",
    "from datetime import datetime\n",
    "import warnings"
   ]
  },
  {
   "cell_type": "markdown",
   "metadata": {},
   "source": [
    "# analyN_function.r"
   ]
  },
  {
   "cell_type": "code",
   "execution_count": 2,
   "metadata": {},
   "outputs": [],
   "source": [
    "def analyN(r1, r2, a1, a12, a21, a2):\n",
    "    N1 = (r1 - 1 - (a12 / a2) * (r2 - 1)) / (a1 - a21 * a12 / a2)\n",
    "    N2 = (r2 - 1 - (a21 / a1) * (r1 - 1)) / (a2 - a21 * a12 / a1)\n",
    "    \n",
    "    if np.isinf(N1) or np.isinf(N2) or np.isnan(N1) or np.isnan(N2):\n",
    "        initialNsp1 = 0\n",
    "        initialNsp2 = 0\n",
    "        N = np.zeros((100, 2))\n",
    "        N[0, :] = [initialNsp1, initialNsp2]\n",
    "        \n",
    "        for i in range(1, 100):\n",
    "            N[i, 0] = max((r1 - 1 - a12 * N[i-1, 1]) / a1, 0)\n",
    "            N[i, 1] = max((r2 - 1 - a21 * N[i-1, 0]) / a2, 0)\n",
    "        \n",
    "        N1 = np.mean(N[:, 0])\n",
    "        N2 = np.mean(N[:, 1])\n",
    "    \n",
    "    if N1 < 0 and N2 >= 0:\n",
    "        N1 = 0\n",
    "        N2 = (r2 - 1) / a2\n",
    "    elif N2 < 0 and N1 >= 0:\n",
    "        N2 = 0\n",
    "        N1 = (r1 - 1) / a1\n",
    "    \n",
    "    return N1, N2"
   ]
  },
  {
   "cell_type": "markdown",
   "metadata": {},
   "source": [
    "# getNFD.r"
   ]
  },
  {
   "cell_type": "code",
   "execution_count": 3,
   "metadata": {},
   "outputs": [],
   "source": [
    "def calculate_metrics(l1, l2, a11, a12, a21, a22, N1, N2):\n",
    "    CoexistRank = 0 if N1 < 1 else 1\n",
    "\n",
    "#     The original code of Yenni et al. replaced l1 with l2 in the numerator:\n",
    "    S1 = l2 / (1 + (a12 / a22) * (l2 - 1))\n",
    "    S2 = l1 / (1 + (a21 / a11) * (l1 - 1))\n",
    "#     # Corrected Strength of Stabilization:\n",
    "#     S1 = l1 / (1 + (a12 / a22) * (l2 - 1))\n",
    "#     S2 = l2 / (1 + (a21 / a11) * (l1 - 1))\n",
    "\n",
    "    E1, E2 = l1 / l2, l2 / l1  # Fitness equivalence\n",
    "    Asy = S1 - S2  # Asymmetry\n",
    "    Rare = 0 if N1 == 0 and N2 == 0 else N1 / (N1 + N2)\n",
    "\n",
    "    # Calculating covariance:\n",
    "    x = np.array([N1, N2])\n",
    "    y = np.array([S1, S2])\n",
    "    cor_matrix = np.cov(x, y)\n",
    "    cor = cor_matrix[0, 1]  # Extracting the correlation between N and S\n",
    "    \n",
    "    Rank = 0 if N1 == 0 and N2 == 0 else (2 if N1 / (N1 + N2) <= 0.25 else 1)\n",
    "    \n",
    "    return CoexistRank, E1, S1, E2, S2, Asy, cor, Rare, Rank"
   ]
  },
  {
   "cell_type": "markdown",
   "metadata": {},
   "source": [
    "# annualplant_2spp_det_par.r"
   ]
  },
  {
   "cell_type": "code",
   "execution_count": 4,
   "metadata": {},
   "outputs": [
    {
     "name": "stderr",
     "output_type": "stream",
     "text": [
      "/tmp/ipykernel_150804/3128295576.py:2: RuntimeWarning: divide by zero encountered in double_scalars\n",
      "  N1 = (r1 - 1 - (a12 / a2) * (r2 - 1)) / (a1 - a21 * a12 / a2)\n",
      "/tmp/ipykernel_150804/3128295576.py:3: RuntimeWarning: divide by zero encountered in double_scalars\n",
      "  N2 = (r2 - 1 - (a21 / a1) * (r1 - 1)) / (a2 - a21 * a12 / a1)\n",
      "/tmp/ipykernel_150804/3128295576.py:2: RuntimeWarning: invalid value encountered in double_scalars\n",
      "  N1 = (r1 - 1 - (a12 / a2) * (r2 - 1)) / (a1 - a21 * a12 / a2)\n",
      "/tmp/ipykernel_150804/3128295576.py:3: RuntimeWarning: invalid value encountered in double_scalars\n",
      "  N2 = (r2 - 1 - (a21 / a1) * (r1 - 1)) / (a2 - a21 * a12 / a1)\n"
     ]
    }
   ],
   "source": [
    "def preprocess_data():\n",
    "    # Defines frequency-dependent parameters\n",
    "    l1_v = np.arange(15, 21)\n",
    "    l2_v = np.arange(15, 21)\n",
    "    a11_v = np.array([0.1, 0.3, 0.5, 0.7, 0.9, 1, 1.5, 2, 2.5, 3])\n",
    "    a12_v = np.array([0.1, 0.3, 0.5, 0.7, 0.9, 1])\n",
    "    a21_v = np.array([0.1, 0.3, 0.5, 0.7, 0.9, 1])\n",
    "    a22_v = np.array([0.1, 0.3, 0.5, 0.7, 0.9, 1])\n",
    "\n",
    "    # Generate all combinations of parameters using NumPy's meshgrid\n",
    "    mesh = np.array(np.meshgrid(l1_v, l2_v, a11_v, a12_v, a21_v, a22_v)).T.reshape(-1, 6)\n",
    "    return mesh\n",
    "\n",
    "def Sim(k, mesh_row):\n",
    "    l1, l2, a11, a12, a21, a22 = mesh_row\n",
    "    N1, N2 = analyN(l1, l2, a11, a12, a21, a22)\n",
    "    CoexistRank, E1, E2, S1, S2, Asy, cov, Rare, Rank = calculate_metrics(l1, l2, a11, a12, a21, a22, N1, N2)\n",
    "    return np.array([l1, l2, a11, a12, a21, a22, N1, N2, E1, E2, S1, S2, Rank, CoexistRank, Asy, cov, Rare])\n",
    "\n",
    "def postprocess_results(results, outfile):\n",
    "    column_order = ['l1', 'l2', 'a11', 'a12', 'a21', 'a22', 'N1', 'N2', 'E1', 'S1', 'E2', 'S2', 'Rank', 'CoexistRank', 'Asy', 'cor', 'Rare']\n",
    "    simul = pd.DataFrame(results, columns=column_order)\n",
    "    simul.to_csv(outfile, index=False)\n",
    "\n",
    "if __name__ == \"__main__\":\n",
    "    outfile = \"csv/annplant_2spp_det_rare.csv\"\n",
    "    mesh = preprocess_data()\n",
    "    results = np.empty((len(mesh), 17), dtype=float)\n",
    "    # Run the simulation for each row in the parameter combination mesh\n",
    "    for k in range(len(mesh)):\n",
    "        results[k] = Sim(k, mesh[k])\n",
    "    postprocess_results(results, outfile)"
   ]
  },
  {
   "cell_type": "markdown",
   "metadata": {},
   "source": [
    "# cor_figure.r"
   ]
  },
  {
   "cell_type": "code",
   "execution_count": 5,
   "metadata": {},
   "outputs": [],
   "source": [
    "def cor_figure():\n",
    "    dat_det = pd.read_csv(\"csv/annplant_2spp_det_rare.csv\")\n",
    "    dat_det = dat_det.query('Rank == 2 & S1 >= 1 & S2 >= 1').copy() # Apply filter  \n",
    "    dat_det.reset_index(drop=True, inplace=True)\n",
    "    dat_det = np.trunc(dat_det * 100) / 100.0  # Truncate to two decimals\n",
    "    dat_det.sort_values(by=['a22', 'a21', 'a12', 'a11', 'l2', 'l1'], inplace=True)\n",
    "    dat_det.to_csv(\"csv/annplant_2spp_det_rare_filtered.csv\", index=False)"
   ]
  },
  {
   "cell_type": "markdown",
   "metadata": {},
   "source": [
    "# figures_det.r"
   ]
  },
  {
   "cell_type": "code",
   "execution_count": 6,
   "metadata": {},
   "outputs": [],
   "source": [
    "def analyze_coexistence_effect(file_path):\n",
    "    dat = pd.read_csv(file_path)\n",
    "\n",
    "    # Logistic regression\n",
    "    X = sm.add_constant(dat[['S1', 'E1', 'cor']])\n",
    "    y = dat['CoexistRank']\n",
    "    model = sm.GLM(y, X, family=sm.families.Binomial())\n",
    "    result = model.fit()\n",
    "    print(f\"{result.summary()}\")\n",
    "\n",
    "    # Calculation of proportions and table preparation\n",
    "    nu_positive_coexistence = len(dat[(dat['cor'] >= 0) & (dat['CoexistRank'] == 1)])\n",
    "    nu_positive_exclusion = len(dat[(dat['cor'] >= 0) & (dat['CoexistRank'] == 0)])\n",
    "    nu_negative_coexistence = len(dat[(dat['cor'] < 0) & (dat['CoexistRank'] == 1)])\n",
    "    nu_negative_exclusion = len(dat[(dat['cor'] < 0) & (dat['CoexistRank'] == 0)])\n",
    "\n",
    "    # Display the table\n",
    "    table_data = {\n",
    "        '\\u03BD \\u2265 0': [nu_positive_coexistence, nu_positive_exclusion],\n",
    "        '\\u03BD < 0': [nu_negative_coexistence, nu_negative_exclusion]\n",
    "    }\n",
    "    table_df = pd.DataFrame(table_data, index=['coexistence', 'exclusion'])\n",
    "    print(\"\\nCoexistence and Exclusion based on \\u03BD:\\n\", table_df)\n",
    "\n",
    "    negative_nu = dat[dat['cor'] < 0]\n",
    "    non_negative_nu = dat[dat['cor'] >= 0]\n",
    "    negative_nu_coexist = negative_nu[negative_nu['CoexistRank'] == 1]\n",
    "    non_negative_nu_coexist = non_negative_nu[non_negative_nu['CoexistRank'] == 1]\n",
    "\n",
    "    proportion_negative_nu = len(negative_nu_coexist) / len(negative_nu) if len(negative_nu) > 0 else 0\n",
    "    proportion_non_negative_nu = len(non_negative_nu_coexist) / len(non_negative_nu) if len(non_negative_nu) > 0 else 0\n",
    "\n",
    "    # Confidence intervals for proportions\n",
    "    neg_nu_confint = proportion_confint(count=len(negative_nu_coexist), nobs=len(negative_nu), alpha=0.05, method='wilson')\n",
    "    non_neg_nu_confint = proportion_confint(count=len(non_negative_nu_coexist), nobs=len(non_negative_nu), alpha=0.05, method='wilson')\n",
    "\n",
    "    print(\"\\nAnalysis on Negative \\u03BD:\")\n",
    "    print(f\"Proportion of coexistence with \\u03BD < 0: {proportion_negative_nu:.4f} (95% CI: {neg_nu_confint})\")\n",
    "    print(f\"Proportion of coexistence with \\u03BD \\u2265 0: {proportion_non_negative_nu:.4f} (95% CI: {non_neg_nu_confint})\")\n",
    "\n",
    "    # Comparing confidence intervals for decision making\n",
    "    if neg_nu_confint[1] < non_neg_nu_confint[0]:\n",
    "        print(\"Higher coexistence observed with \\u03BD \\u2265 0, not supporting the authors' claim that \\n'coexistence is predicted more often when \\u03BD is negative'.\")\n",
    "    elif neg_nu_confint[0] > non_neg_nu_confint[1]:\n",
    "        print(\"Higher coexistence observed with \\u03BD < 0, supporting the authors' claim that \\n'coexistence is predicted more often when \\u03BD is negative'.\")\n",
    "    else:\n",
    "        print(\"Confidence intervals for proportions overlap, suggesting the effect of nu on coexistence is inconclusive, relative to the authors' claim that \\n'coexistence is predicted more often when \\u03BD is negative'.\")"
   ]
  },
  {
   "cell_type": "code",
   "execution_count": 7,
   "metadata": {},
   "outputs": [
    {
     "name": "stdout",
     "output_type": "stream",
     "text": [
      "Original Results by Yenni et al.\n",
      "                 Generalized Linear Model Regression Results                  \n",
      "==============================================================================\n",
      "Dep. Variable:            CoexistRank   No. Observations:                18056\n",
      "Model:                            GLM   Df Residuals:                    18052\n",
      "Model Family:                Binomial   Df Model:                            3\n",
      "Link Function:                  Logit   Scale:                          1.0000\n",
      "Method:                          IRLS   Log-Likelihood:                -3507.3\n",
      "Date:                Mon, 25 Mar 2024   Deviance:                       7014.6\n",
      "Time:                        15:56:46   Pearson chi2:                 2.76e+04\n",
      "No. Iterations:                    10   Pseudo R-squ. (CS):             0.6117\n",
      "Covariance Type:            nonrobust                                         \n",
      "==============================================================================\n",
      "                 coef    std err          z      P>|z|      [0.025      0.975]\n",
      "------------------------------------------------------------------------------\n",
      "const        -42.6373      0.795    -53.621      0.000     -44.196     -41.079\n",
      "S1            17.7671      0.358     49.608      0.000      17.065      18.469\n",
      "E1            23.8327      0.473     50.431      0.000      22.906      24.759\n",
      "cor           -0.0065      0.000    -15.129      0.000      -0.007      -0.006\n",
      "==============================================================================\n",
      "\n",
      "Coexistence and Exclusion based on ν:\n",
      "              ν ≥ 0  ν < 0\n",
      "coexistence   9848   1228\n",
      "exclusion     6905     75\n",
      "\n",
      "Analysis on Negative ν:\n",
      "Proportion of coexistence with ν < 0: 0.9424 (95% CI: (0.92844553594958, 0.9538344010830864))\n",
      "Proportion of coexistence with ν ≥ 0: 0.5878 (95% CI: (0.5803621232794907, 0.5952676341083984))\n",
      "Higher coexistence observed with ν < 0, supporting the authors' claim that \n",
      "'coexistence is predicted more often when ν is negative'.\n",
      "\n",
      "Reproduction of the Authors' Results\n",
      "                 Generalized Linear Model Regression Results                  \n",
      "==============================================================================\n",
      "Dep. Variable:            CoexistRank   No. Observations:                18001\n",
      "Model:                            GLM   Df Residuals:                    17997\n",
      "Model Family:                Binomial   Df Model:                            3\n",
      "Link Function:                  Logit   Scale:                          1.0000\n",
      "Method:                          IRLS   Log-Likelihood:                -3500.7\n",
      "Date:                Mon, 25 Mar 2024   Deviance:                       7001.4\n",
      "Time:                        15:56:46   Pearson chi2:                 2.77e+04\n",
      "No. Iterations:                    10   Pseudo R-squ. (CS):             0.6120\n",
      "Covariance Type:            nonrobust                                         \n",
      "==============================================================================\n",
      "                 coef    std err          z      P>|z|      [0.025      0.975]\n",
      "------------------------------------------------------------------------------\n",
      "const        -42.5953      0.795    -53.551      0.000     -44.154     -41.036\n",
      "S1            17.7205      0.358     49.522      0.000      17.019      18.422\n",
      "E1            23.8300      0.473     50.385      0.000      22.903      24.757\n",
      "cor           -0.0065      0.000    -15.042      0.000      -0.007      -0.006\n",
      "==============================================================================\n",
      "\n",
      "Coexistence and Exclusion based on ν:\n",
      "              ν ≥ 0  ν < 0\n",
      "coexistence   9780   1237\n",
      "exclusion     6900     84\n",
      "\n",
      "Analysis on Negative ν:\n",
      "Proportion of coexistence with ν < 0: 0.9364 (95% CI: (0.9219458444863968, 0.9483469685316539))\n",
      "Proportion of coexistence with ν ≥ 0: 0.5863 (95% CI: (0.5788379793336947, 0.5937841357294614))\n",
      "Higher coexistence observed with ν < 0, supporting the authors' claim that \n",
      "'coexistence is predicted more often when ν is negative'.\n"
     ]
    }
   ],
   "source": [
    "def main():\n",
    "    # Suppress warnings\n",
    "    warnings.filterwarnings(\"ignore\")\n",
    "\n",
    "    # Generate simulation results\n",
    "    output_file = \"csv/annplant_2spp_det_rare_filtered.csv\"\n",
    "    data_grid = preprocess_data()\n",
    "    simulations = np.array([Sim(k, row) for k, row in enumerate(data_grid)])\n",
    "    postprocess_results(simulations, output_file)\n",
    "\n",
    "    cor_figure() # apply filters\n",
    "\n",
    "    print(\"Original Results by Yenni et al.\")\n",
    "    analyze_coexistence_effect(\"csv/annplant_2spp_det_rare.txt\")\n",
    "\n",
    "    print(\"\\nReproduction of the Authors' Results\")\n",
    "    analyze_coexistence_effect(output_file)\n",
    "\n",
    "if __name__ == \"__main__\":\n",
    "    main()"
   ]
  }
 ],
 "metadata": {
  "jupytext": {
   "formats": "ipynb,py:light"
  },
  "kernelspec": {
   "display_name": "Python 3 (ipykernel)",
   "language": "python",
   "name": "python3"
  },
  "language_info": {
   "codemirror_mode": {
    "name": "ipython",
    "version": 3
   },
   "file_extension": ".py",
   "mimetype": "text/x-python",
   "name": "python",
   "nbconvert_exporter": "python",
   "pygments_lexer": "ipython3",
   "version": "3.10.12"
  }
 },
 "nbformat": 4,
 "nbformat_minor": 4
}
