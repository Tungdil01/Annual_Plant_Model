{
 "cells": [
  {
   "cell_type": "code",
   "execution_count": 1,
   "metadata": {},
   "outputs": [],
   "source": [
    "import pandas as pd\n",
    "import numpy as np\n",
    "import matplotlib.pyplot as plt\n",
    "import statsmodels.api as sm\n",
    "from scipy import stats\n",
    "from scipy.stats import ttest_ind\n",
    "from datetime import datetime"
   ]
  },
  {
   "cell_type": "markdown",
   "metadata": {},
   "source": [
    "# analyN_function.r"
   ]
  },
  {
   "cell_type": "code",
   "execution_count": 2,
   "metadata": {},
   "outputs": [],
   "source": [
    "def analyN(r1, r2, a1, a12, a21, a2):\n",
    "    N1 = (r1 - 1 - (a12 / a2) * (r2 - 1)) / (a1 - a21 * a12 / a2)\n",
    "    N2 = (r2 - 1 - (a21 / a1) * (r1 - 1)) / (a2 - a21 * a12 / a1)\n",
    "    \n",
    "    if np.isinf(N1) or np.isinf(N2) or np.isnan(N1) or np.isnan(N2):\n",
    "        initialNsp1 = 0\n",
    "        initialNsp2 = 0\n",
    "        N = np.zeros((100, 2))\n",
    "        N[0, :] = [initialNsp1, initialNsp2]\n",
    "        \n",
    "        for i in range(1, 100):\n",
    "            new_N1 = max((r1 - 1 - a12 * N[i-1, 1]) / a1, 0)\n",
    "            new_N2 = max((r2 - 1 - a21 * N[i-1, 0]) / a2, 0)\n",
    "            N[i, :] = [new_N1, new_N2]\n",
    "        \n",
    "        N1 = np.mean(N[:, 0])\n",
    "        N2 = np.mean(N[:, 1])\n",
    "    \n",
    "    if N1 < 0:\n",
    "        N1 = 0\n",
    "        N2 = (r2 - 1) / a2\n",
    "    \n",
    "    if N2 < 0:\n",
    "        N2 = 0\n",
    "        N1 = (r1 - 1) / a1\n",
    "    \n",
    "    return N1, N2"
   ]
  },
  {
   "cell_type": "markdown",
   "metadata": {},
   "source": [
    "# annualplant_2spp_det_par.r"
   ]
  },
  {
   "cell_type": "code",
   "execution_count": 3,
   "metadata": {},
   "outputs": [
    {
     "name": "stdout",
     "output_type": "stream",
     "text": [
      "2023-10-12 13:41:48.185230\n"
     ]
    },
    {
     "name": "stderr",
     "output_type": "stream",
     "text": [
      "/tmp/ipykernel_97745/1650304560.py:2: RuntimeWarning: divide by zero encountered in double_scalars\n",
      "  N1 = (r1 - 1 - (a12 / a2) * (r2 - 1)) / (a1 - a21 * a12 / a2)\n",
      "/tmp/ipykernel_97745/1650304560.py:3: RuntimeWarning: divide by zero encountered in double_scalars\n",
      "  N2 = (r2 - 1 - (a21 / a1) * (r1 - 1)) / (a2 - a21 * a12 / a1)\n",
      "/tmp/ipykernel_97745/1650304560.py:2: RuntimeWarning: invalid value encountered in double_scalars\n",
      "  N1 = (r1 - 1 - (a12 / a2) * (r2 - 1)) / (a1 - a21 * a12 / a2)\n",
      "/tmp/ipykernel_97745/1650304560.py:3: RuntimeWarning: invalid value encountered in double_scalars\n",
      "  N2 = (r2 - 1 - (a21 / a1) * (r1 - 1)) / (a2 - a21 * a12 / a1)\n"
     ]
    }
   ],
   "source": [
    "# Print the current date and time\n",
    "print(datetime.now())\n",
    "\n",
    "# Define output file name\n",
    "outfile = \"csv/annplant_2spp_det_rare.csv\"\n",
    "\n",
    "# Define frequency-dependent parameters\n",
    "l1_v = np.arange(15, 21)\n",
    "l2_v = np.arange(15, 21)\n",
    "a11_v = np.array([0.1, 0.3, 0.5, 0.7, 0.9, 1, 1.5, 2, 2.5, 3])\n",
    "a12_v = np.array([0.1, 0.3, 0.5, 0.7, 0.9, 1])\n",
    "a21_v = np.array([0.1, 0.3, 0.5, 0.7, 0.9, 1])\n",
    "a22_v = np.array([0.1, 0.3, 0.5, 0.7, 0.9, 1])\n",
    "\n",
    "# Generate all combinations of parameters using NumPy's meshgrid\n",
    "mesh = np.array(np.meshgrid(l1_v, l2_v, a11_v, a12_v, a21_v, a22_v)).T.reshape(-1, 6)\n",
    "\n",
    "# Initialize an empty NumPy array to hold the results\n",
    "n_rows = mesh.shape[0]\n",
    "results = np.empty((n_rows, 17), dtype=float)\n",
    "\n",
    "# Simulation function\n",
    "def Sim(k, mesh_row):\n",
    "    l1, l2, a11, a12, a21, a22 = mesh_row\n",
    "    \n",
    "    N1, N2 = analyN(l1, l2, a11, a12, a21, a22)\n",
    "    \n",
    "    CoexistRank = 0 if N1 < 1 else 1\n",
    "    \n",
    "#     The original code from Yenni et al. replaced r1 with r2 (in this case, l1 and l2):\n",
    "    S1 = l2 / (1 + (a12 / a22) * (l2 - 1))\n",
    "    S2 = l1 / (1 + (a21 / a11) * (l1 - 1))\n",
    "#     # If the Strength of Stabilization is fixed, the result is different:\n",
    "#     S1 = l1 / (1 + (a12 / a22) * (l2 - 1))\n",
    "#     S2 = l2 / (1 + (a21 / a11) * (l1 - 1))\n",
    "    \n",
    "    E1, E2 = l1 / l2, l2 / l1  # fitness equivalence\n",
    "    Asy = S1 - S2\n",
    "    if N1 == 0 and N2 == 0:\n",
    "        Rare = 0\n",
    "    else:\n",
    "        Rare = N1 / (N1 + N2)\n",
    "\n",
    "    x = np.array([N1, N2])\n",
    "    y = np.array([S1, S2])\n",
    "    cov_matrix = np.cov(x, y)\n",
    "    cor = cov_matrix[0, 1]\n",
    "    \n",
    "    if N1 == 0 and N2 == 0:\n",
    "        Rank = 0\n",
    "    elif N1 / (N1 + N2) <= 0.25:\n",
    "        Rank = 2 # choose N1 rare: frequency <= 0.25 \n",
    "    else:\n",
    "        Rank = 1\n",
    "    \n",
    "    return np.array([l1, l2, a11, a12, a21, a22, N1, N2, E1, E2, S1, S2, Rank, CoexistRank, Asy, cor, Rare])\n",
    "\n",
    "# Run the simulation for each row in the DataFrame\n",
    "for k in range(n_rows):\n",
    "    results[k] = Sim(k, mesh[k])\n",
    "\n",
    "# Convert the NumPy array back to a DataFrame\n",
    "column_order = ['l1', 'l2', 'a11', 'a12', 'a21', 'a22', 'N1', 'N2', 'E1', 'E2', 'S1', 'S2', 'Rank', 'CoexistRank', 'Asy', 'cor', 'Rare']\n",
    "simul = pd.DataFrame(results, columns=column_order)\n",
    "\n",
    "# Save the DataFrame to a CSV file\n",
    "simul.to_csv(outfile, index=False)\n"
   ]
  },
  {
   "cell_type": "markdown",
   "metadata": {},
   "source": [
    "# cor_figure.r"
   ]
  },
  {
   "cell_type": "code",
   "execution_count": 4,
   "metadata": {},
   "outputs": [],
   "source": [
    "# Read the data\n",
    "dat_det = pd.read_csv(\"csv/annplant_2spp_det_rare.csv\")\n",
    "\n",
    "# Filter the data using query for better readability and performance\n",
    "dat_det = dat_det.query('Rank == 2 & S1 >= 1 & S2 >= 1')\n",
    "\n",
    "# Reset the index (optional but recommended for clean data)\n",
    "dat_det.reset_index(drop=True, inplace=True)\n",
    "\n",
    "# Save the modified DataFrame back to the same CSV file (or a different one if you prefer)\n",
    "dat_det.to_csv(\"csv/annplant_2spp_det_rare_filtered.csv\", index=False)\n",
    "\n",
    "# Calculate the correlation (covariance in this case) between abundance and stabilization\n",
    "x = dat_det[['N1', 'N2']].values\n",
    "y = dat_det[['S1', 'S2']].values\n",
    "\n",
    "# Calculate covariance for each row and store it in a new 'cor' column\n",
    "dat_det['cor'] = [np.cov(x[i], y[i])[0, 1] for i in range(len(x))]\n",
    "\n",
    "# Save the DataFrame with the updated 'cor' column\n",
    "dat_det.to_csv(\"csv/annplant_2spp_det_rare_filtered.csv\", index=False)"
   ]
  },
  {
   "cell_type": "markdown",
   "metadata": {},
   "source": [
    "# figures_det.r"
   ]
  },
  {
   "cell_type": "code",
   "execution_count": 5,
   "metadata": {},
   "outputs": [
    {
     "name": "stdout",
     "output_type": "stream",
     "text": [
      "                 Generalized Linear Model Regression Results                  \n",
      "==============================================================================\n",
      "Dep. Variable:            CoexistRank   No. Observations:                18056\n",
      "Model:                            GLM   Df Residuals:                    18052\n",
      "Model Family:                Binomial   Df Model:                            3\n",
      "Link Function:                  Logit   Scale:                          1.0000\n",
      "Method:                          IRLS   Log-Likelihood:                -3507.3\n",
      "Date:                Thu, 12 Oct 2023   Deviance:                       7014.6\n",
      "Time:                        13:41:53   Pearson chi2:                 2.76e+04\n",
      "No. Iterations:                    10   Pseudo R-squ. (CS):             0.6117\n",
      "Covariance Type:            nonrobust                                         \n",
      "==============================================================================\n",
      "                 coef    std err          z      P>|z|      [0.025      0.975]\n",
      "------------------------------------------------------------------------------\n",
      "const        -42.6373      0.795    -53.621      0.000     -44.196     -41.079\n",
      "S1            17.7671      0.358     49.608      0.000      17.065      18.469\n",
      "E1            23.8327      0.473     50.431      0.000      22.906      24.759\n",
      "cor           -0.0065      0.000    -15.129      0.000      -0.007      -0.006\n",
      "==============================================================================\n"
     ]
    }
   ],
   "source": [
    "# Read the data\n",
    "dat = pd.read_csv(\"csv/annplant_2spp_det_rare.txt\") # Yenni et al. original result\n",
    "\n",
    "# Effect on coexistence\n",
    "X = dat[['S1', 'E1', 'cor']]\n",
    "X = sm.add_constant(X)\n",
    "y = dat['CoexistRank']\n",
    "model = sm.GLM(y, X, family=sm.families.Binomial())\n",
    "result = model.fit()\n",
    "print(result.summary())"
   ]
  },
  {
   "cell_type": "code",
   "execution_count": 6,
   "metadata": {},
   "outputs": [
    {
     "name": "stdout",
     "output_type": "stream",
     "text": [
      "                 Generalized Linear Model Regression Results                  \n",
      "==============================================================================\n",
      "Dep. Variable:            CoexistRank   No. Observations:                18001\n",
      "Model:                            GLM   Df Residuals:                    17997\n",
      "Model Family:                Binomial   Df Model:                            3\n",
      "Link Function:                  Logit   Scale:                          1.0000\n",
      "Method:                          IRLS   Log-Likelihood:                -3477.6\n",
      "Date:                Thu, 12 Oct 2023   Deviance:                       6955.3\n",
      "Time:                        13:41:53   Pearson chi2:                 2.78e+04\n",
      "No. Iterations:                    10   Pseudo R-squ. (CS):             0.6130\n",
      "Covariance Type:            nonrobust                                         \n",
      "==============================================================================\n",
      "                 coef    std err          z      P>|z|      [0.025      0.975]\n",
      "------------------------------------------------------------------------------\n",
      "const        -42.4184      0.787    -53.898      0.000     -43.961     -40.876\n",
      "S1            17.4522      0.350     49.795      0.000      16.765      18.139\n",
      "E1            23.8388      0.470     50.718      0.000      22.918      24.760\n",
      "cor           -0.0065      0.000    -15.071      0.000      -0.007      -0.006\n",
      "==============================================================================\n"
     ]
    }
   ],
   "source": [
    "# Read the data\n",
    "dat = pd.read_csv(\"csv/annplant_2spp_det_rare_filtered.csv\")\n",
    "\n",
    "# Effect on coexistence\n",
    "X = dat[['S1', 'E1', 'cor']]\n",
    "X = sm.add_constant(X)\n",
    "y = dat['CoexistRank']\n",
    "model = sm.GLM(y, X, family=sm.families.Binomial())\n",
    "result = model.fit()\n",
    "print(result.summary())"
   ]
  }
 ],
 "metadata": {
  "jupytext": {
   "formats": "ipynb,py:light"
  },
  "kernelspec": {
   "display_name": "Python 3 (ipykernel)",
   "language": "python",
   "name": "python3"
  },
  "language_info": {
   "codemirror_mode": {
    "name": "ipython",
    "version": 3
   },
   "file_extension": ".py",
   "mimetype": "text/x-python",
   "name": "python",
   "nbconvert_exporter": "python",
   "pygments_lexer": "ipython3",
   "version": "3.10.4"
  }
 },
 "nbformat": 4,
 "nbformat_minor": 4
}
