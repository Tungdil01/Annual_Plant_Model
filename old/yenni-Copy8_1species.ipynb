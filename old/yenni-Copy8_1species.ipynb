{
 "cells": [
  {
   "cell_type": "markdown",
   "metadata": {},
   "source": [
    "## Discrete-time competitive Beverton-Holt model"
   ]
  },
  {
   "cell_type": "markdown",
   "metadata": {},
   "source": [
    "\\begin{align}\n",
    "N_{1,t+1}=\\dfrac{r_1N_{1,t}}{1+a_{11}N_{1,t}+a_{12}N_{2,t}} \\\\\n",
    "N_{2,t+1}=\\dfrac{r_2N_{2,t}}{1+a_{22}N_{2,t}+a_{21}N_{1,t}}\n",
    "\\tag{1}\n",
    "\\end{align}"
   ]
  },
  {
   "cell_type": "markdown",
   "metadata": {},
   "source": [
    "## Packages"
   ]
  },
  {
   "cell_type": "code",
   "execution_count": 1,
   "metadata": {},
   "outputs": [],
   "source": [
    "import numpy as np # math expressions\n",
    "import matplotlib.pyplot as plt # plot"
   ]
  },
  {
   "cell_type": "code",
   "execution_count": 2,
   "metadata": {
    "scrolled": true
   },
   "outputs": [
    {
     "data": {
      "image/png": "[encoded data removed]",
      "text/plain": [
       "<Figure size 10x10 with 1 Axes>"
      ]
     },
     "metadata": {},
     "output_type": "display_data"
    }
   ],
   "source": [
    "# Dummy plot\n",
    "fig, ax = plt.subplots(figsize=(0.1, 0.1))\n",
    "ax.axhline(y=1, color='grey', linestyle='-')\n",
    "plt.rcParams.update({'font.size': 30})"
   ]
  },
  {
   "cell_type": "markdown",
   "metadata": {},
   "source": [
    "## Initialization"
   ]
  },
  {
   "cell_type": "code",
   "execution_count": 3,
   "metadata": {},
   "outputs": [],
   "source": [
    "# Variables for the per capita growth rate\n",
    "tmax = 2\n",
    "time = np.linspace(1,tmax,tmax)\n",
    "\n",
    "y1 = np.zeros(tmax)\n",
    "y1_ = np.zeros(tmax)\n",
    "per_capita1 = np.zeros(tmax)\n",
    "per_capita1_ = np.zeros(tmax)\n",
    "\n",
    "y1[0] = 5 # initial conditions\n",
    "y1_[0] = 10"
   ]
  },
  {
   "cell_type": "markdown",
   "metadata": {},
   "source": [
    "## Parameters"
   ]
  },
  {
   "cell_type": "markdown",
   "metadata": {},
   "source": [
    "r1=20\n",
    "r2=16\n",
    "a11=2.7\n",
    "a12=0.6\n",
    "a21=0.6\n",
    "a22=0.6"
   ]
  },
  {
   "cell_type": "markdown",
   "metadata": {},
   "source": [
    "## cov > 0"
   ]
  },
  {
   "cell_type": "markdown",
   "metadata": {},
   "source": [
    "r1=20\n",
    "r2=12\n",
    "a11=1\n",
    "a12=1\n",
    "a21=0.1\n",
    "a22=1"
   ]
  },
  {
   "cell_type": "markdown",
   "metadata": {},
   "source": [
    "## cov < 0"
   ]
  },
  {
   "cell_type": "markdown",
   "metadata": {},
   "source": [
    "r1=20\n",
    "r2=11\n",
    "a11=1\n",
    "a12=1\n",
    "a21=0.1\n",
    "a22=1"
   ]
  },
  {
   "cell_type": "markdown",
   "metadata": {},
   "source": [
    "## cov = zero"
   ]
  },
  {
   "cell_type": "markdown",
   "metadata": {},
   "source": [
    "r1=20\n",
    "r2=11\n",
    "a11=1\n",
    "a12=1\n",
    "a21=1\n",
    "a22=1"
   ]
  },
  {
   "cell_type": "code",
   "execution_count": 4,
   "metadata": {},
   "outputs": [],
   "source": [
    "r1=17\n",
    "r2=19\n",
    "a11=2.1\n",
    "a12=0.3\n",
    "a21=0.1\n",
    "a22=0.9"
   ]
  },
  {
   "cell_type": "code",
   "execution_count": 5,
   "metadata": {},
   "outputs": [
    {
     "ename": "NameError",
     "evalue": "name 'per_capita2' is not defined",
     "output_type": "error",
     "traceback": [
      "\u001b[0;31m---------------------------------------------------------------------------\u001b[0m",
      "\u001b[0;31mNameError\u001b[0m                                 Traceback (most recent call last)",
      "Cell \u001b[0;32mIn[5], line 10\u001b[0m\n\u001b[1;32m      8\u001b[0m y1_[i\u001b[38;5;241m+\u001b[39m\u001b[38;5;241m1\u001b[39m] \u001b[38;5;241m=\u001b[39m y1_[i] \u001b[38;5;241m*\u001b[39m per_capita1_[i]\n\u001b[1;32m      9\u001b[0m per_capita1\u001b[38;5;241m=\u001b[39mnp\u001b[38;5;241m.\u001b[39mappend(per_capita1,per_capita1[i])\n\u001b[0;32m---> 10\u001b[0m per_capita2\u001b[38;5;241m=\u001b[39mnp\u001b[38;5;241m.\u001b[39mappend(\u001b[43mper_capita2\u001b[49m,per_capita1_[i])\n\u001b[1;32m     11\u001b[0m y1\u001b[38;5;241m=\u001b[39mnp\u001b[38;5;241m.\u001b[39mappend(y1,y1[i])\n\u001b[1;32m     12\u001b[0m y2\u001b[38;5;241m=\u001b[39mnp\u001b[38;5;241m.\u001b[39mappend(y2,y1_[i])\n",
      "\u001b[0;31mNameError\u001b[0m: name 'per_capita2' is not defined"
     ]
    }
   ],
   "source": [
    "## Discrete-time competitive Beverton-Holt model\n",
    "i=0\n",
    "stopRun=0\n",
    "while stopRun==0: # stops the simulation when the dynamics converges\n",
    "    per_capita1[i] = r1 / ( 1 + a11 * y1[i] )\n",
    "    per_capita1_[i] = r1 / ( 1 + a11 * y1_[i] )\n",
    "    y1[i+1] = y1[i] * per_capita1[i]\n",
    "    y1_[i+1] = y1_[i] * per_capita1_[i]\n",
    "    per_capita1=np.append(per_capita1,per_capita1[i])\n",
    "    per_capita1_=np.append(per_capita1_,per_capita1_[i])\n",
    "    y1=np.append(y1,y1[i])\n",
    "    y1_=np.append(y1_,y1_[i])\n",
    "    if(np.abs(y1[i+1]-y1[i]) and np.abs(y1_[i+1]-y1_[i]) < 0.001):\n",
    "        stopRun=1\n",
    "    i+=1 # i=i+1"
   ]
  },
  {
   "cell_type": "code",
   "execution_count": null,
   "metadata": {},
   "outputs": [],
   "source": [
    "tmax = len(y1)\n",
    "time = np.linspace(1,tmax,tmax)\n",
    "\n",
    "fig, (ax) = plt.subplots(1,figsize=(8, 6))\n",
    "ax.plot(time, y1, alpha=0.5,marker=\"o\", linewidth=10, markersize=12, color=\"r\", label='$N_{1}$')\n",
    "ax.plot(time, y1_, alpha=0.5,marker=\"o\", linewidth=10, markersize=12, color=\"r\")\n",
    "ax.set(xlabel='Time (days)', ylabel='$N_{t}$')\n",
    "ax.legend()\n",
    "plt.rcParams.update({'font.size': 30})\n",
    "ax.set_title('r1='+str(r1)+',r2='+str(r2)+',a11='+str(a11)+',a12='+str(a12)+',a21='+str(a21)+',a22='+str(a22), fontsize=25)\n",
    "plt.tight_layout()\n",
    "plt.savefig('img/yenni_time_series_r1_'+str(r1)+'_r2_'+str(r2)+'_a11_'+str(a11)+'_a12_'+str(a12)+'_a21_'+str(a21)+'_a22_'+str(a22)+'.png', format='png', dpi=50)\n",
    "plt.show()"
   ]
  },
  {
   "cell_type": "code",
   "execution_count": null,
   "metadata": {},
   "outputs": [],
   "source": [
    "fig, (ax) = plt.subplots(1,figsize=(8, 6))\n",
    "ax.plot(time, np.log(per_capita1), alpha=0.5,marker=\"o\", linewidth=10, markersize=12, color=\"r\", label='$N_{1}$')\n",
    "ax.plot(time, np.log(per_capita1_), alpha=0.5,marker=\"o\", linewidth=10, markersize=12, color=\"r\")\n",
    "ax.set(xlabel='Time (days)', ylabel='log(PGR)')\n",
    "ax.axhline(y=0, color='grey', linestyle='-')\n",
    "ax.legend()\n",
    "plt.rcParams.update({'font.size': 30})\n",
    "ax.set_title('r1='+str(r1)+',r2='+str(r2)+',a11='+str(a11)+',a12='+str(a12)+',a21='+str(a21)+',a22='+str(a22), fontsize=25)\n",
    "plt.tight_layout()\n",
    "plt.savefig('img/pgr_time_series_r1_'+str(r1)+'_r2_'+str(r2)+'_a11_'+str(a11)+'_a12_'+str(a12)+'_a21_'+str(a21)+'_a22_'+str(a22)+'.png', format='png', dpi=50)\n",
    "plt.show()"
   ]
  },
  {
   "cell_type": "code",
   "execution_count": null,
   "metadata": {},
   "outputs": [],
   "source": [
    "fig, (ax) = plt.subplots(1,figsize=(8, 6))\n",
    "ax.plot(y1,np.log(per_capita1), alpha=0.5,marker=\"o\", linewidth=10, markersize=12, color=\"r\", label='$N_{1}$')\n",
    "ax.plot(y1_,np.log(per_capita2), alpha=0.5,marker=\"o\", linewidth=10, markersize=12, color=\"r\")\n",
    "ax.set(xlabel='$N_t$', ylabel='log(PGR)')\n",
    "ax.axhline(y=0, color='grey', linestyle='-')\n",
    "ax.legend()\n",
    "plt.rcParams.update({'font.size': 30})\n",
    "ax.set_title('r1='+str(r1)+',r2='+str(r2)+',a11='+str(a11)+',a12='+str(a12)+',a21='+str(a21)+',a22='+str(a22), fontsize=25)\n",
    "plt.tight_layout()\n",
    "plt.savefig('img/yenni_r1_'+str(r1)+'_r2_'+str(r2)+'_a11_'+str(a11)+'_a12_'+str(a12)+'_a21_'+str(a21)+'_a22_'+str(a22)+'.png', format='png', dpi=50)\n",
    "plt.show()"
   ]
  }
 ],
 "metadata": {
  "jupytext": {
   "formats": "ipynb,py:light"
  },
  "kernelspec": {
   "display_name": "Python 3 (ipykernel)",
   "language": "python",
   "name": "python3"
  },
  "language_info": {
   "codemirror_mode": {
    "name": "ipython",
    "version": 3
   },
   "file_extension": ".py",
   "mimetype": "text/x-python",
   "name": "python",
   "nbconvert_exporter": "python",
   "pygments_lexer": "ipython3",
   "version": "3.10.4"
  }
 },
 "nbformat": 4,
 "nbformat_minor": 4
}
