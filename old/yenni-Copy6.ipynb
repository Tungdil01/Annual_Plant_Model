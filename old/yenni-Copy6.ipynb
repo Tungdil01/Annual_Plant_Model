{
 "cells": [
  {
   "cell_type": "markdown",
   "metadata": {},
   "source": [
    "## Discrete-time competitive Beverton-Holt model"
   ]
  },
  {
   "cell_type": "markdown",
   "metadata": {},
   "source": [
    "\\begin{align}\n",
    "N_{1,t+1}=\\dfrac{r_1N_{1,t}}{1+a_{11}N_{1,t}+a_{12}N_{2,t}} \\\\\n",
    "N_{2,t+1}=\\dfrac{r_2N_{2,t}}{1+a_{22}N_{2,t}+a_{21}N_{1,t}}\n",
    "\\tag{1}\n",
    "\\end{align}"
   ]
  },
  {
   "cell_type": "markdown",
   "metadata": {},
   "source": [
    "## Packages"
   ]
  },
  {
   "cell_type": "code",
   "execution_count": 1,
   "metadata": {},
   "outputs": [],
   "source": [
    "import numpy as np # math expressions\n",
    "import matplotlib.pyplot as plt # plot"
   ]
  },
  {
   "cell_type": "code",
   "execution_count": 2,
   "metadata": {
    "scrolled": true
   },
   "outputs": [],
   "source": [
    "# Dummy plot\n",
    "fig, ax = plt.subplots(figsize=(0.1, 0.1))\n",
    "ax.axhline(y=1, color='grey', linestyle='-')\n",
    "plt.rcParams.update({'font.size': 30})"
   ]
  },
  {
   "cell_type": "markdown",
   "metadata": {},
   "source": [
    "## Initialization"
   ]
  },
  {
   "cell_type": "code",
   "execution_count": 3,
   "metadata": {},
   "outputs": [],
   "source": [
    "# Variables for the per capita growth rate\n",
    "tmax = 2\n",
    "time = np.linspace(1,tmax,tmax)\n",
    "\n",
    "y1 = np.zeros(tmax)\n",
    "y2 = np.zeros(tmax)\n",
    "#y1_t = np.zeros(tmax)\n",
    "#y2_t = np.zeros(tmax)\n",
    "per_capita1 = np.zeros(tmax)\n",
    "per_capita2 = np.zeros(tmax)\n",
    "\n",
    "y1[0], y2[0] = 5, 5 # initial conditions"
   ]
  },
  {
   "cell_type": "markdown",
   "metadata": {},
   "source": [
    "## Parameters"
   ]
  },
  {
   "cell_type": "code",
   "execution_count": 4,
   "metadata": {},
   "outputs": [],
   "source": [
    "r1=20\n",
    "r2=16\n",
    "a11=2.7\n",
    "a12=0.6\n",
    "a21=0.6\n",
    "a22=0.6"
   ]
  },
  {
   "cell_type": "markdown",
   "metadata": {},
   "source": [
    "## cov > 0"
   ]
  },
  {
   "cell_type": "markdown",
   "metadata": {},
   "source": [
    "r1=20\n",
    "r2=12\n",
    "a11=1\n",
    "a12=1\n",
    "a21=0.1\n",
    "a22=1"
   ]
  },
  {
   "cell_type": "markdown",
   "metadata": {},
   "source": [
    "## cov < 0"
   ]
  },
  {
   "cell_type": "markdown",
   "metadata": {},
   "source": [
    "r1=20\n",
    "r2=11\n",
    "a11=1\n",
    "a12=1\n",
    "a21=0.1\n",
    "a22=1"
   ]
  },
  {
   "cell_type": "markdown",
   "metadata": {},
   "source": [
    "## cov = zero"
   ]
  },
  {
   "cell_type": "markdown",
   "metadata": {},
   "source": [
    "r1=20\n",
    "r2=11\n",
    "a11=1\n",
    "a12=1\n",
    "a21=1\n",
    "a22=1"
   ]
  },
  {
   "cell_type": "code",
   "execution_count": 5,
   "metadata": {},
   "outputs": [],
   "source": [
    "r1=17\n",
    "r2=19\n",
    "a11=2.1\n",
    "a12=0.3\n",
    "a21=0.1\n",
    "a22=0.9"
   ]
  },
  {
   "cell_type": "code",
   "execution_count": 6,
   "metadata": {},
   "outputs": [],
   "source": [
    "## Discrete-time competitive Beverton-Holt model\n",
    "i=0\n",
    "stopRun=0\n",
    "while stopRun==0: # stops the simulation when the dynamics converges\n",
    "#    y1_t[i+1] = y1[i] # y1 in the previous step, y1[t-1]\n",
    "#    y2_t[i+1] = y2[i] # y2 in the previous step, y2[t-1]\n",
    "    per_capita1[i] = r1 / ( 1 + a11 * y1[i] + a12 * y2[i] )\n",
    "    per_capita2[i] = r2 / ( 1 + a22 * y2[i] + a21 * y1[i] )\n",
    "    y1[i+1] = y1[i] * per_capita1[i]\n",
    "    y2[i+1] = y2[i] * per_capita2[i]\n",
    "    per_capita1=np.append(per_capita1,per_capita1[i])\n",
    "    per_capita2=np.append(per_capita2,per_capita2[i])\n",
    "    y1=np.append(y1,y1[i])\n",
    "    y2=np.append(y2,y2[i])\n",
    "    if(np.abs(y1[i+1]-y1[i]) and np.abs(y2[i+1]-y2[i]) < 0.01):\n",
    "        stopRun=1\n",
    "    i+=1 # i=i+1"
   ]
  },
  {
   "cell_type": "markdown",
   "metadata": {},
   "source": [
    "## Relative frequency"
   ]
  },
  {
   "cell_type": "code",
   "execution_count": 7,
   "metadata": {},
   "outputs": [],
   "source": [
    "y_rel1 = np.zeros(len(y1))\n",
    "y_rel2 = np.zeros(len(y1))\n",
    "for i in range(len(y1)):\n",
    "    y_rel1[i]=y1[i]/(y1[i]+y2[i])\n",
    "    y_rel2[i]=y2[i]/(y1[i]+y2[i])"
   ]
  },
  {
   "cell_type": "code",
   "execution_count": 8,
   "metadata": {},
   "outputs": [],
   "source": [
    "y1"
   ]
  },
  {
   "cell_type": "code",
   "execution_count": 9,
   "metadata": {},
   "outputs": [],
   "source": [
    "y_rel1"
   ]
  },
  {
   "cell_type": "code",
   "execution_count": 10,
   "metadata": {},
   "outputs": [],
   "source": [
    "per_capita1"
   ]
  },
  {
   "cell_type": "code",
   "execution_count": 11,
   "metadata": {},
   "outputs": [],
   "source": [
    "y1*per_capita1"
   ]
  },
  {
   "cell_type": "code",
   "execution_count": 12,
   "metadata": {},
   "outputs": [],
   "source": [
    "fig, (ax) = plt.subplots(1,figsize=(6, 4))\n",
    "ax.plot(y_rel1, np.log(per_capita1))\n",
    "ax.plot(y_rel2, np.log(per_capita2))"
   ]
  },
  {
   "cell_type": "code",
   "execution_count": 13,
   "metadata": {},
   "outputs": [],
   "source": [
    "tmax = len(y1)\n",
    "time = np.linspace(1,tmax,tmax)\n",
    "\n",
    "fig, (ax) = plt.subplots(1,figsize=(8, 6))\n",
    "ax.plot(time, y1, alpha=0.5,marker=\"o\", linewidth=10, markersize=12, color=\"r\", label='$N_{1}$')\n",
    "ax.plot(time, y2, alpha=0.5,marker=\"o\", linewidth=10, markersize=12, color=\"b\", label='$N_{2}$')\n",
    "ax.set(xlabel='Time (days)', ylabel='$N_{t}$')\n",
    "ax.legend()\n",
    "plt.rcParams.update({'font.size': 30})\n",
    "ax.set_title('r1='+str(r1)+',r2='+str(r2)+',a11='+str(a11)+',a12='+str(a12)+',a21='+str(a21)+',a22='+str(a22), fontsize=25)\n",
    "plt.tight_layout()\n",
    "plt.savefig('img/yenni_time_series_r1_'+str(r1)+'_r2_'+str(r2)+'_a11_'+str(a11)+'_a12_'+str(a12)+'_a21_'+str(a21)+'_a22_'+str(a22)+'.png', format='png', dpi=50)\n",
    "plt.show()"
   ]
  },
  {
   "cell_type": "code",
   "execution_count": 14,
   "metadata": {},
   "outputs": [],
   "source": [
    "fig, (ax) = plt.subplots(1,figsize=(8, 6))\n",
    "#ax.plot(y1/(y1+y2),np.log(per_capita1), alpha=0.5,marker=\"o\", linewidth=10, markersize=12, color=\"r\", label='$N_{1}$')\n",
    "ax.plot(y_rel2,np.log(per_capita2), alpha=0.5,marker=\"o\", linewidth=10, markersize=12, color=\"b\", label='$N_{2}$')\n",
    "ax.set(xlabel='$N_t$', ylabel='log(PGR)')\n",
    "ax.legend()\n",
    "plt.rcParams.update({'font.size': 30})\n",
    "ax.set_title('r1='+str(r1)+',r2='+str(r2)+',a11='+str(a11)+',a12='+str(a12)+',a21='+str(a21)+',a22='+str(a22), fontsize=25)\n",
    "plt.tight_layout()\n",
    "#plt.savefig('img/yenni_time_series_r1_'+str(r1)+'_r2_'+str(r2)+'_a11_'+str(a11)+'_a12_'+str(a12)+'_a21_'+str(a21)+'_a22_'+str(a22)+'.png', format='png', dpi=50)\n",
    "plt.show()"
   ]
  },
  {
   "cell_type": "code",
   "execution_count": 15,
   "metadata": {},
   "outputs": [],
   "source": [
    "tmax = len(y1)\n",
    "time = np.linspace(1,tmax,tmax)\n",
    "\n",
    "fig, (ax) = plt.subplots(1,figsize=(8, 6))\n",
    "ax.plot(time, np.log(per_capita1), alpha=0.5,marker=\"o\", linewidth=10, markersize=12, color=\"r\", label='$N_{1}$')\n",
    "ax.plot(time, np.log(per_capita2), alpha=0.5,marker=\"o\", linewidth=10, markersize=12, color=\"b\", label='$N_{2}$')\n",
    "ax.set(xlabel='Time (days)', ylabel='log(Growth rate)')\n",
    "ax.axhline(y=0, color='grey', linestyle='-')\n",
    "ax.legend()\n",
    "plt.rcParams.update({'font.size': 30})\n",
    "ax.set_title('r1='+str(r1)+',r2='+str(r2)+',a11='+str(a11)+',a12='+str(a12)+',a21='+str(a21)+',a22='+str(a22), fontsize=25)\n",
    "plt.tight_layout()\n",
    "plt.savefig('img/yenni_time_series_r1_'+str(r1)+'_r2_'+str(r2)+'_a11_'+str(a11)+'_a12_'+str(a12)+'_a21_'+str(a21)+'_a22_'+str(a22)+'.png', format='png', dpi=50)\n",
    "plt.show()"
   ]
  },
  {
   "cell_type": "code",
   "execution_count": 16,
   "metadata": {},
   "outputs": [],
   "source": [
    "# Same result:\n",
    "#growth1 = np.log(y1[1:-1])-np.log(y1[0:-2])\n",
    "#growth2 = np.log(y2[1:-1])-np.log(y2[0:-2])\n",
    "\n",
    "fig, (ax) = plt.subplots(1,figsize=(8, 6))\n",
    "ax.plot(y_rel1, np.log(per_capita1), alpha=0.5,marker=\"o\", linewidth=10, markersize=12, color=\"r\")\n",
    "ax.plot(y_rel2, np.log(per_capita2), alpha=0.5,marker=\"o\", linewidth=10, markersize=12, color=\"b\")\n",
    "ax.set(xlabel='Frequency', ylabel='log(Growth rate)')\n",
    "ax.axhline(y=0, color='grey', linestyle='-')\n",
    "plt.rcParams.update({'font.size': 30})\n",
    "ax.set_title('r1='+str(r1)+',r2='+str(r2)+',a11='+str(a11)+',a12='+str(a12)+',a21='+str(a21)+',a22='+str(a22), fontsize=25)\n",
    "plt.tight_layout()\n",
    "plt.savefig('img/yenni_time_series_r1_'+str(r1)+'_r2_'+str(r2)+'_a11_'+str(a11)+'_a12_'+str(a12)+'_a21_'+str(a21)+'_a22_'+str(a22)+'.png', format='png', dpi=50)\n",
    "plt.show()"
   ]
  },
  {
   "cell_type": "code",
   "execution_count": null,
   "metadata": {},
   "outputs": [],
   "source": [
    "cov=np.zeros(0)\n",
    "final_abundance1=np.zeros(0)\n",
    "final_abundance2=np.zeros(0)\n",
    "step=1\n",
    "\n",
    "df=open('output.txt','w')\n",
    "df.write(\"r1\" + \"\\t\" + \"r2\" + \"\\t\" + \"a11\" + \"\\t\" + \"a12\" + \"\\t\" + \"a21\" + \"\\t\" + \"a22\" + \"\\t\" + \"N1_final\" + \"\\t\" + \"N2_final\" + \"\\t\" + \"N1_rel_final\" + \"\\t\" + \"N2_rel_final\" + \"\\t\" + \"average_growth1\" + \"\\t\" + \"average_growth2\" + \"\\t\" + \"log_average_growth1\" + \"\\t\" + \"log_average_growth2\" + \"\\t\" + \"S1\" + \"\\t\" + \"S2\" + \"\\n\")\n",
    "for r1 in range(15,21,step):\n",
    "    for r2 in range(11,21,step):\n",
    "        for a11 in np.arange(0.7,3.1,step/10):\n",
    "            for a12 in np.arange(0.1,1.1,step/10):\n",
    "                for a21 in np.arange(0.1,1.1,step/10):\n",
    "                    for a22 in np.arange(0.1,1.1,step/10):\n",
    "                        ## Strength of stabilization\n",
    "                        S1=r2/(1+(a12/a22)*(r2-1))\n",
    "                        S2=r1/(1+(a21/a11)*(r1-1))                     \n",
    "                        ## Discrete-time competitive Beverton-Holt model\n",
    "                        i=0\n",
    "                        stopRun=0\n",
    "                        while stopRun==0:\n",
    "                            per_capita1[i] = r1 / ( 1 + a11 * y1[i] + a12 * y2[i] )\n",
    "                            per_capita2[i] = r2 / ( 1 + a22 * y2[i] + a21 * y1[i] )\n",
    "                            y1[i+1] = y1[i] * per_capita1[i]\n",
    "                            y2[i+1] = y2[i] * per_capita2[i]\n",
    "                            per_capita1=np.append(per_capita1,per_capita1[i])\n",
    "                            per_capita2=np.append(per_capita2,per_capita2[i])\n",
    "                            y1=np.append(y1,y1[i])\n",
    "                            y2=np.append(y2,y2[i])\n",
    "                            if(np.abs(y1[i+1]-y1[i]) and np.abs(y2[i+1]-y2[i]) < 0.01):\n",
    "                                stopRun=1\n",
    "                            i+=1\n",
    "                            if i>2000:\n",
    "                                continue\n",
    "#                        y_rel1 = y1/(y1+y2)\n",
    "#                        y_rel2 = y2/(y1+y2)\n",
    "                        S=np.array([S1,S2])\n",
    "                        abundance=np.array([np.mean(y1),np.mean(y2)])#([y1[-1],y2[-1]]) # mean or final abundance?\n",
    "                        final_abundance1=np.append(final_abundance1,y1[-1])\n",
    "                        final_abundance2=np.append(final_abundance2,y2[-1])\n",
    "                        cov=np.append(cov,np.cov(abundance, S)[0][1])\n",
    "                        df.write(str(r1) + \"\\t\" + str(r2) + \"\\t\" + str(a11) + \"\\t\" + str(a12) + \"\\t\" + str(a21) + \"\\t\" + str(a22) + \"\\t\" + str(y1[-1]) + \"\\t\" + str(y2[-1]) + \"\\t\" + str(y1[-1]/(y1[-1]+y2[-1])) + \"\\t\" + str(y2[-1]/(y1[-1]+y2[-1])) + \"\\t\" + str((np.average(per_capita1))) + \"\\t\" + str((np.average(per_capita2))) + \"\\t\" + str(np.log(np.average(per_capita1))) + \"\\t\" + str(np.log(np.average(per_capita2))) + \"\\t\" + str(S1) + \"\\t\" + str(S2))\n",
    "                        df.write('\\n')\n",
    "df.close()\n",
    "\n",
    "#relat_abundance1 = final_abundance1 / ( final_abundance1 + final_abundance2 )\n",
    "#relat_abundance2 = final_abundance2 / ( final_abundance1 + final_abundance2 )"
   ]
  },
  {
   "cell_type": "code",
   "execution_count": null,
   "metadata": {},
   "outputs": [],
   "source": [
    "stop"
   ]
  },
  {
   "cell_type": "code",
   "execution_count": null,
   "metadata": {},
   "outputs": [],
   "source": [
    "tmax = len(y1)\n",
    "time = np.linspace(1,tmax,tmax)\n",
    "\n",
    "fig, (ax1,ax2) = plt.subplots(2,figsize=(14, 10))\n",
    "ax1.plot(time, y1, alpha=0.5,marker=\"o\", linewidth=10, markersize=12, color=\"r\")\n",
    "ax1.set(ylabel='$N_{1,t}$')\n",
    "ax2.plot(time, y2, alpha=0.5,marker=\"o\", linewidth=10, markersize=12, color=\"b\")\n",
    "ax2.set(xlabel='Time (days)', ylabel='$N_{2,t}$')\n",
    "plt.rcParams.update({'font.size': 30})\n",
    "ax1.set_title('r1='+str(r1)+',r2='+str(r2)+',a11='+str(a11)+',a12='+str(a12)+',a21='+str(a21)+',a22='+str(a22), fontsize=25)\n",
    "plt.tight_layout()\n",
    "plt.savefig('img/yenni_time_series_r1_'+str(r1)+'_r2_'+str(r2)+'_a11_'+str(a11)+'_a12_'+str(a12)+'_a21_'+str(a21)+'_a22_'+str(a22)+'.png', format='png', dpi=50)\n",
    "plt.show()"
   ]
  },
  {
   "cell_type": "code",
   "execution_count": null,
   "metadata": {},
   "outputs": [],
   "source": [
    "fig, (ax1,ax2) = plt.subplots(2,figsize=(14, 10))\n",
    "ax1.plot(time[:-2], np.log(per_capita1[:-2]), alpha=0.5,marker=\"o\", linewidth=10, markersize=12, color=\"r\")\n",
    "ax1.set(ylabel='$\\log(N_{1,t+1}/N_{1,t})$')\n",
    "ax1.axhline(y=0, color='grey', linestyle='-')\n",
    "ax2.axhline(y=0, color='grey', linestyle='-')\n",
    "ax2.plot(time[:-2], np.log(per_capita2[:-2]), alpha=0.5,marker=\"o\", linewidth=10, markersize=12, color=\"b\")\n",
    "ax2.set(xlabel='Time (days)', ylabel='$\\log(N_{2,t+1}/N_{2,t})$')\n",
    "plt.rcParams.update({'font.size': 30})\n",
    "ax1.set_title('r1='+str(r1)+',r2='+str(r2)+',a11='+str(a11)+',a12='+str(a12)+',a21='+str(a21)+',a22='+str(a22), fontsize=25)\n",
    "plt.tight_layout()\n",
    "plt.show()"
   ]
  },
  {
   "cell_type": "code",
   "execution_count": null,
   "metadata": {},
   "outputs": [],
   "source": [
    "Nfreq1 = y1 / ( y1 + y2 )\n",
    "Nfreq2 = y2 / ( y1 + y2 )\n",
    "growth1 = np.log(y1[1:-1])-np.log(y1[0:-2]) # = np.log(per_capita1)\n",
    "growth2 = np.log(y2[1:-1])-np.log(y2[0:-2]) # = np.log(per_capita2)\n",
    "\n",
    "fig, ax = plt.subplots(1,figsize=(8, 6))\n",
    "ax.plot(Nfreq1[:-2],growth1[:],alpha=0.5,linewidth=10,markersize=12,marker=\"o\",color='r')\n",
    "ax.plot(Nfreq2[:-2],growth2[:],alpha=0.5,linewidth=10,markersize=12,marker=\"o\",color='b')\n",
    "ax.axhline(y=0, color='grey', linestyle='-')\n",
    "ax.set(xlabel=\"Relative frequency\",ylabel=\"log(growth rate)\")\n",
    "ax.set_title('r1='+str(r1)+',r2='+str(r2)+',a11='+str(a11)+',a12='+str(a12)+',a21='+str(a21)+',a22='+str(a22), fontsize=25)\n",
    "plt.rcParams.update({'font.size': 30})\n",
    "plt.tight_layout()\n",
    "plt.savefig('img/yenni_r1_'+str(r1)+'_r2_'+str(r2)+'_a11_'+str(a11)+'_a12_'+str(a12)+'_a21_'+str(a21)+'_a22_'+str(a22)+'.png', format='png', dpi=50)\n",
    "plt.show()"
   ]
  }
 ],
 "metadata": {
  "jupytext": {
   "formats": "ipynb,py:light"
  },
  "kernelspec": {
   "display_name": "Python 3 (ipykernel)",
   "language": "python",
   "name": "python3"
  },
  "language_info": {
   "codemirror_mode": {
    "name": "ipython",
    "version": 3
   },
   "file_extension": ".py",
   "mimetype": "text/x-python",
   "name": "python",
   "nbconvert_exporter": "python",
   "pygments_lexer": "ipython3",
   "version": "3.10.4"
  }
 },
 "nbformat": 4,
 "nbformat_minor": 4
}
