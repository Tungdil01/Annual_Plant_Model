{
 "cells": [
  {
   "cell_type": "markdown",
   "metadata": {},
   "source": [
    "## Discrete-time competitive Beverton-Holt model"
   ]
  },
  {
   "cell_type": "markdown",
   "metadata": {},
   "source": [
    "\\begin{align}\n",
    "N_{1,t+1}=\\dfrac{r_1N_{1,t}}{1+a_{11}N_{1,t}+a_{12}N_{2,t}} \\\\\n",
    "N_{2,t+1}=\\dfrac{r_2N_{2,t}}{1+a_{22}N_{2,t}+a_{21}N_{1,t}}\n",
    "\\tag{1}\n",
    "\\end{align}"
   ]
  },
  {
   "cell_type": "markdown",
   "metadata": {},
   "source": [
    "### Reference: \n",
    "\n",
    "Yenni, Glenda Marie, Peter Adler, and S. K. Morgan Ernest. 2012. Strong self-limitation promotes the persistence of rare species. Ecology. 93 (3) pp. 456 – 461. http://doi.org/10.1890/11-1087.1\n",
    "\n",
    "### Code:\n",
    "\n",
    "http://doi.org/10.1890/11-1087.1"
   ]
  },
  {
   "cell_type": "markdown",
   "metadata": {},
   "source": [
    "## Packages"
   ]
  },
  {
   "cell_type": "code",
   "execution_count": 1,
   "metadata": {},
   "outputs": [],
   "source": [
    "import numpy as np\n",
    "import matplotlib.pyplot as plt"
   ]
  },
  {
   "cell_type": "markdown",
   "metadata": {},
   "source": [
    "## Initialization and definition of variables, bounds, arrays, etc."
   ]
  },
  {
   "cell_type": "code",
   "execution_count": 2,
   "metadata": {},
   "outputs": [
    {
     "data": {
      "image/png": "[encoded data removed]",
      "text/plain": [
       "<Figure size 10x10 with 1 Axes>"
      ]
     },
     "metadata": {},
     "output_type": "display_data"
    }
   ],
   "source": [
    "# Variables for the time series\n",
    "tmax = 100\n",
    "time = np.linspace(1,tmax,tmax)\n",
    "y1 = np.zeros(tmax)\n",
    "y2 = np.zeros(tmax)\n",
    "y1[0], y2[0] = 5, 5 #0.4, 0.6 # initial conditions\n",
    "final_abundance1=np.zeros(0)\n",
    "final_growth_rate1=np.zeros(0)\n",
    "final_abundance2=np.zeros(0)\n",
    "final_growth_rate2=np.zeros(0)\n",
    "cov=np.zeros(0)\n",
    "\n",
    "growth_rate1 = np.zeros(tmax)\n",
    "growth_rate2 = np.zeros(tmax)\n",
    "positive_growth_rate1=np.zeros(0)\n",
    "positive_growth_rate2=np.zeros(0)\n",
    "negative_growth_rate1=np.zeros(0)\n",
    "negative_growth_rate2=np.zeros(0)\n",
    "zero_growth_rate1=np.zeros(0)\n",
    "zero_growth_rate2=np.zeros(0)\n",
    "positive_final_abundance1=np.zeros(0)\n",
    "positive_final_abundance2=np.zeros(0)\n",
    "negative_final_abundance1=np.zeros(0)\n",
    "negative_final_abundance2=np.zeros(0)\n",
    "zero_final_abundance1=np.zeros(0)\n",
    "zero_final_abundance2=np.zeros(0)\n",
    "\n",
    "# Variables for the per capita growth rate\n",
    "ymax = 50\n",
    "y1_SR = np.zeros(ymax)\n",
    "y2_SR = np.zeros(ymax)\n",
    "growth_rate1_SR = np.zeros(ymax)\n",
    "growth_rate2_SR = np.zeros(ymax)\n",
    "\n",
    "# Dummy plot, not important\n",
    "fig, ax = plt.subplots(figsize=(0.1, 0.1))\n",
    "ax.plot(time, y1, alpha=0.5,linestyle=\"--\", linewidth=10, markersize=12, color=\"r\")\n",
    "plt.rcParams.update({'font.size': 30})"
   ]
  },
  {
   "cell_type": "markdown",
   "metadata": {},
   "source": [
    "## Covariance: strength of stabilization and final population"
   ]
  },
  {
   "cell_type": "code",
   "execution_count": 10,
   "metadata": {},
   "outputs": [
    {
     "ename": "NameError",
     "evalue": "name 'y1_previous' is not defined",
     "output_type": "error",
     "traceback": [
      "\u001b[0;31m---------------------------------------------------------------------------\u001b[0m",
      "\u001b[0;31mNameError\u001b[0m                                 Traceback (most recent call last)",
      "Input \u001b[0;32mIn [10]\u001b[0m, in \u001b[0;36m<cell line: 3>\u001b[0;34m()\u001b[0m\n\u001b[1;32m     12\u001b[0m                         \u001b[38;5;66;03m## Discrete-time competitive Beverton-Holt model\u001b[39;00m\n\u001b[1;32m     13\u001b[0m \u001b[38;5;66;03m#                          for i in range(tmax-1):\u001b[39;00m\n\u001b[1;32m     14\u001b[0m \u001b[38;5;66;03m#                             growth_rate1[i] = r1 / ( 1 + a11 * y1[i] + a12 * y2[i] )\u001b[39;00m\n\u001b[1;32m     15\u001b[0m \u001b[38;5;66;03m#                             growth_rate2[i] = r2 / ( 1 + a22 * y2[i] + a21 * y1[i] )\u001b[39;00m\n\u001b[1;32m     16\u001b[0m \u001b[38;5;66;03m#                             y1[i+1] = y1[i] * growth_rate1[i]\u001b[39;00m\n\u001b[1;32m     17\u001b[0m \u001b[38;5;66;03m#                             y2[i+1] = y2[i] * growth_rate2[i]\u001b[39;00m\n\u001b[1;32m     18\u001b[0m                         \u001b[38;5;28;01mfor\u001b[39;00m i \u001b[38;5;129;01min\u001b[39;00m \u001b[38;5;28mrange\u001b[39m(tmax\u001b[38;5;241m-\u001b[39m\u001b[38;5;241m1\u001b[39m):\n\u001b[0;32m---> 19\u001b[0m                             \u001b[38;5;28;01mwhile\u001b[39;00m \u001b[38;5;129;01mnot\u001b[39;00m np\u001b[38;5;241m.\u001b[39msqrt(\u001b[38;5;28msum\u001b[39m((y1[i] \u001b[38;5;241m-\u001b[39m \u001b[43my1_previous\u001b[49m[i]) \u001b[38;5;241m*\u001b[39m\u001b[38;5;241m*\u001b[39m \u001b[38;5;241m2\u001b[39m)) \u001b[38;5;241m<\u001b[39m\u001b[38;5;241m=\u001b[39m \u001b[38;5;241m0.001\u001b[39m:\n\u001b[1;32m     20\u001b[0m                                 growth_rate1[i] \u001b[38;5;241m=\u001b[39m r1 \u001b[38;5;241m/\u001b[39m ( \u001b[38;5;241m1\u001b[39m \u001b[38;5;241m+\u001b[39m a11 \u001b[38;5;241m*\u001b[39m y1[i] \u001b[38;5;241m+\u001b[39m a12 \u001b[38;5;241m*\u001b[39m y2[i] )\n\u001b[1;32m     21\u001b[0m                                 growth_rate2[i] \u001b[38;5;241m=\u001b[39m r2 \u001b[38;5;241m/\u001b[39m ( \u001b[38;5;241m1\u001b[39m \u001b[38;5;241m+\u001b[39m a22 \u001b[38;5;241m*\u001b[39m y2[i] \u001b[38;5;241m+\u001b[39m a21 \u001b[38;5;241m*\u001b[39m y1[i] )\n",
      "\u001b[0;31mNameError\u001b[0m: name 'y1_previous' is not defined"
     ]
    }
   ],
   "source": [
    "df=open('annplant_2spp_det.txt','w')\n",
    "df.write(\"r1\" + \"\\t\" + \"r2\" + \"\\t\" + \"a11\" + \"\\t\" + \"a12\" + \"\\t\" + \"a21\" + \"\\t\" + \"a22\" + \"\\t\" + \"N1\" + \"\\t\" + \"N2\" + \"\\t\" + \"N1rel\" + \"\\t\" + \"N2rel\" + \"\\t\" + \"growth1\" + \"\\t\" + \"growth2\" + \"\\t\" + \"log growth1\" + \"\\t\" + \"log growth2\" + \"\\t\" + \"S1\" + \"\\t\" + \"S2\" + \"\\n\")\n",
    "for r1 in range(10,21,4):#(15,20,1)\n",
    "    for r2 in range(10,21,4):#(11,20,1)\n",
    "        for a11 in np.arange(0.1,3.1,0.4):#(0.7,3,0.1)\n",
    "            for a12 in np.arange(0.1,1.1,0.4):\n",
    "                for a21 in np.arange(0.1,1.1,0.4):\n",
    "                    for a22 in np.arange(0.1,1.1,0.4):\n",
    "                        ## Strength of stabilization\n",
    "                        S1=r2/(1+(a12/a22)*(r2-1))\n",
    "                        S2=r1/(1+(a21/a11)*(r1-1))                     \n",
    "                        ## Discrete-time competitive Beverton-Holt model\n",
    "#                         for i in range(tmax-1):\n",
    "#                             growth_rate1[i] = r1 / ( 1 + a11 * y1[i] + a12 * y2[i] )\n",
    "#                             growth_rate2[i] = r2 / ( 1 + a22 * y2[i] + a21 * y1[i] )\n",
    "#                             y1[i+1] = y1[i] * growth_rate1[i]\n",
    "#                             y2[i+1] = y2[i] * growth_rate2[i]\n",
    "                        while \n",
    "                        for i in range(tmax-1):\n",
    "                            growth_rate1[i] = r1 / ( 1 + a11 * y1[i] + a12 * y2[i] )\n",
    "                            growth_rate2[i] = r2 / ( 1 + a22 * y2[i] + a21 * y1[i] )\n",
    "                            y1[i+1] = y1[i] * growth_rate1[i]\n",
    "                            y2[i+1] = y2[i] * growth_rate2[i]\n",
    "                        S=np.array([S1,S2])\n",
    "                        abundance=np.array([y1[-1],y2[-1]])\n",
    "                        cov=np.append(cov,np.cov(abundance, S)[0][1])\n",
    "                        final_abundance1=np.append(final_abundance1,y1[-1])\n",
    "                        final_abundance2=np.append(final_abundance2,y2[-1])\n",
    "                        y1_previous,y2_previous=y1[+1:],y2[+1:]\n",
    "                        y1_previous,y2_previous=np.append(y1_previous,[0]),np.append(y2_previous,[0])\n",
    "                        final_growth_rate1=np.append(final_growth_rate1,np.average(y1-y1_previous))\n",
    "                        final_growth_rate2=np.append(final_growth_rate2,np.average(y2-y2_previous))\n",
    "#                        final_growth_rate1=np.append(final_growth_rate1,growth_rate1[-2])\n",
    "#                        final_growth_rate2=np.append(final_growth_rate2,growth_rate2[-2])\n",
    "                        df.write(str(r1) + \"\\t\" + str(r2) + \"\\t\" + str(a11) + \"\\t\" + str(a12) + \"\\t\" + str(a21) + \"\\t\" + str(a22) + \"\\t\" + str(y1[-1]) + \"\\t\" + str(y2[-1]) + \"\\t\" + str(y1[-1]/(y1[-1]+y2[-1])) + \"\\t\" + str(y2[-1]/(y1[-1]+y2[-1])) + \"\\t\" + str((y1[-1]-y1[-2])) + \"\\t\" + str((y2[-1]-y2[-2])) + \"\\t\" + str(np.log(y1[-1]-y1[-2])) + \"\\t\" + str(np.log(y2[-1]-y2[-2])) + \"\\t\" + str(S1) + \"\\t\" + str(S2))\n",
    "                        df.write('\\n')\n",
    "df.close()"
   ]
  },
  {
   "cell_type": "code",
   "execution_count": null,
   "metadata": {},
   "outputs": [],
   "source": [
    "y1_previous=y1[+1:]\n",
    "y1_previous=np.append(y1_previous,[0])"
   ]
  },
  {
   "cell_type": "code",
   "execution_count": null,
   "metadata": {},
   "outputs": [],
   "source": [
    "np.average(y1-y1_previous)"
   ]
  },
  {
   "cell_type": "code",
   "execution_count": null,
   "metadata": {},
   "outputs": [],
   "source": [
    "y2"
   ]
  },
  {
   "cell_type": "code",
   "execution_count": null,
   "metadata": {},
   "outputs": [],
   "source": [
    "final_growth_rate2"
   ]
  },
  {
   "cell_type": "markdown",
   "metadata": {},
   "source": [
    "# Test graph"
   ]
  },
  {
   "cell_type": "code",
   "execution_count": null,
   "metadata": {},
   "outputs": [],
   "source": [
    "#TP = final_abundance1 + final_abundance2\n",
    "#relative_abundance1 = final_abundance1 / TP\n",
    "#relative_abundance2 = final_abundance2 / TP\n",
    "\n",
    "TP = final_abundance1 + final_abundance2\n",
    "\n",
    "Nfreq1 = (y1[+1:]-y1[:-1]) / TP\n",
    "Nfreq2 = (y2[+1:]-y2[:-1]) / TP\n",
    "\n",
    "growth_rate_1 = np.log(y1[+1:]-y1[:-1])\n",
    "growth_rate_2 = np.log(y2[+1:]-y2[:-1])"
   ]
  },
  {
   "cell_type": "code",
   "execution_count": null,
   "metadata": {},
   "outputs": [],
   "source": [
    "len(relative_abundance1)"
   ]
  },
  {
   "cell_type": "code",
   "execution_count": null,
   "metadata": {},
   "outputs": [],
   "source": [
    "len(growth_rate_1)"
   ]
  }
 ],
 "metadata": {
  "jupytext": {
   "formats": "ipynb,py:light"
  },
  "kernelspec": {
   "display_name": "Python 3 (ipykernel)",
   "language": "python",
   "name": "python3"
  },
  "language_info": {
   "codemirror_mode": {
    "name": "ipython",
    "version": 3
   },
   "file_extension": ".py",
   "mimetype": "text/x-python",
   "name": "python",
   "nbconvert_exporter": "python",
   "pygments_lexer": "ipython3",
   "version": "3.10.4"
  }
 },
 "nbformat": 4,
 "nbformat_minor": 4
}
