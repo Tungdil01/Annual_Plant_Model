{
 "cells": [
  {
   "cell_type": "markdown",
   "metadata": {},
   "source": [
    "## Discrete-time competitive Beverton-Holt model"
   ]
  },
  {
   "cell_type": "markdown",
   "metadata": {},
   "source": [
    "\\begin{align}\n",
    "N_{1,t+1}=\\dfrac{r_1N_{1,t}}{1+a_{11}N_{1,t}+a_{12}N_{2,t}} \\\\\n",
    "N_{2,t+1}=\\dfrac{r_2N_{2,t}}{1+a_{22}N_{2,t}+a_{21}N_{1,t}}\n",
    "\\tag{1}\n",
    "\\end{align}"
   ]
  },
  {
   "cell_type": "markdown",
   "metadata": {},
   "source": [
    "### Reference: \n",
    "\n",
    "Yenni, Glenda Marie, Peter Adler, and S. K. Morgan Ernest. 2012. Strong self-limitation promotes the persistence of rare species. Ecology. 93 (3) pp. 456 – 461. http://doi.org/10.1890/11-1087.1\n",
    "\n",
    "### Code:\n",
    "\n",
    "http://doi.org/10.1890/11-1087.1"
   ]
  },
  {
   "cell_type": "markdown",
   "metadata": {},
   "source": [
    "## Packages"
   ]
  },
  {
   "cell_type": "code",
   "execution_count": 1,
   "metadata": {},
   "outputs": [],
   "source": [
    "import numpy as np\n",
    "import matplotlib.pyplot as plt"
   ]
  },
  {
   "cell_type": "markdown",
   "metadata": {},
   "source": [
    "## Initialization and definition of variables, bounds, arrays, etc."
   ]
  },
  {
   "cell_type": "code",
   "execution_count": 2,
   "metadata": {},
   "outputs": [
    {
     "data": {
      "image/png": "[encoded data removed]",
      "text/plain": [
       "<Figure size 10x10 with 1 Axes>"
      ]
     },
     "metadata": {},
     "output_type": "display_data"
    }
   ],
   "source": [
    "# Variables for the time series\n",
    "tmax = 100\n",
    "time = np.linspace(1,tmax,tmax)\n",
    "y1 = np.zeros(tmax)\n",
    "y2 = np.zeros(tmax)\n",
    "y1[0], y2[0] = 5, 5 #0.4, 0.6 # initial conditions\n",
    "final_abundance1=np.zeros(0)\n",
    "final_growth_rate1=np.zeros(0)\n",
    "final_abundance2=np.zeros(0)\n",
    "final_growth_rate2=np.zeros(0)\n",
    "cov=np.zeros(0)\n",
    "\n",
    "growth_rate1 = np.zeros(tmax)\n",
    "growth_rate2 = np.zeros(tmax)\n",
    "positive_growth_rate1=np.zeros(0)\n",
    "positive_growth_rate2=np.zeros(0)\n",
    "negative_growth_rate1=np.zeros(0)\n",
    "negative_growth_rate2=np.zeros(0)\n",
    "zero_growth_rate1=np.zeros(0)\n",
    "zero_growth_rate2=np.zeros(0)\n",
    "positive_final_abundance1=np.zeros(0)\n",
    "positive_final_abundance2=np.zeros(0)\n",
    "negative_final_abundance1=np.zeros(0)\n",
    "negative_final_abundance2=np.zeros(0)\n",
    "zero_final_abundance1=np.zeros(0)\n",
    "zero_final_abundance2=np.zeros(0)\n",
    "\n",
    "# Variables for the per capita growth rate\n",
    "ymax = 50\n",
    "y1_SR = np.zeros(ymax)\n",
    "y2_SR = np.zeros(ymax)\n",
    "growth_rate1_SR = np.zeros(ymax)\n",
    "growth_rate2_SR = np.zeros(ymax)\n",
    "\n",
    "# Dummy plot, not important\n",
    "fig, ax = plt.subplots(figsize=(0.1, 0.1))\n",
    "ax.plot(time, y1, alpha=0.5,linestyle=\"--\", linewidth=10, markersize=12, color=\"r\")\n",
    "plt.rcParams.update({'font.size': 30})"
   ]
  },
  {
   "cell_type": "markdown",
   "metadata": {},
   "source": [
    "## Covariance: strength of stabilization and final population"
   ]
  },
  {
   "cell_type": "code",
   "execution_count": 3,
   "metadata": {},
   "outputs": [
    {
     "name": "stderr",
     "output_type": "stream",
     "text": [
      "/tmp/ipykernel_28496/1669195436.py:25: RuntimeWarning: divide by zero encountered in log\n",
      "  df.write(str(r1) + \"\\t\" + str(r2) + \"\\t\" + str(a11) + \"\\t\" + str(a12) + \"\\t\" + str(a21) + \"\\t\" + str(a22) + \"\\t\" + str(y1[-1]) + \"\\t\" + str(y2[-1]) + \"\\t\" + str(y1[-1]/(y1[-1]+y2[-1])) + \"\\t\" + str(y2[-1]/(y1[-1]+y2[-1])) + \"\\t\" + str((y1[-1]-y1[-2])) + \"\\t\" + str((y2[-1]-y2[-2])) + \"\\t\" + str(np.log(y1[-1]-y1[-2])) + \"\\t\" + str(np.log(y2[-1]-y2[-2])) + \"\\t\" + str(S1) + \"\\t\" + str(S2))\n",
      "/tmp/ipykernel_28496/1669195436.py:25: RuntimeWarning: invalid value encountered in log\n",
      "  df.write(str(r1) + \"\\t\" + str(r2) + \"\\t\" + str(a11) + \"\\t\" + str(a12) + \"\\t\" + str(a21) + \"\\t\" + str(a22) + \"\\t\" + str(y1[-1]) + \"\\t\" + str(y2[-1]) + \"\\t\" + str(y1[-1]/(y1[-1]+y2[-1])) + \"\\t\" + str(y2[-1]/(y1[-1]+y2[-1])) + \"\\t\" + str((y1[-1]-y1[-2])) + \"\\t\" + str((y2[-1]-y2[-2])) + \"\\t\" + str(np.log(y1[-1]-y1[-2])) + \"\\t\" + str(np.log(y2[-1]-y2[-2])) + \"\\t\" + str(S1) + \"\\t\" + str(S2))\n"
     ]
    }
   ],
   "source": [
    "df=open('annplant_2spp_det.txt','w')\n",
    "df.write(\"r1\" + \"\\t\" + \"r2\" + \"\\t\" + \"a11\" + \"\\t\" + \"a12\" + \"\\t\" + \"a21\" + \"\\t\" + \"a22\" + \"\\t\" + \"N1\" + \"\\t\" + \"N2\" + \"\\t\" + \"N1rel\" + \"\\t\" + \"N2rel\" + \"\\t\" + \"growth1\" + \"\\t\" + \"growth2\" + \"\\t\" + \"log growth1\" + \"\\t\" + \"log growth2\" + \"\\t\" + \"S1\" + \"\\t\" + \"S2\" + \"\\n\")\n",
    "for r1 in range(10,21,4):#(15,20,1)\n",
    "    for r2 in range(10,21,4):#(11,20,1)\n",
    "        for a11 in np.arange(0.1,3.1,0.4):#(0.7,3,0.1)\n",
    "            for a12 in np.arange(0.1,1.1,0.4):\n",
    "                for a21 in np.arange(0.1,1.1,0.4):\n",
    "                    for a22 in np.arange(0.1,1.1,0.4):\n",
    "                        ## Strength of stabilization\n",
    "                        S1=r2/(1+(a12/a22)*(r2-1))\n",
    "                        S2=r1/(1+(a21/a11)*(r1-1))                     \n",
    "                        ## Discrete-time competitive Beverton-Holt model\n",
    "                        for i in range(tmax-1):\n",
    "                            growth_rate1[i] = r1 / ( 1 + a11 * y1[i] + a12 * y2[i] )\n",
    "                            growth_rate2[i] = r2 / ( 1 + a22 * y2[i] + a21 * y1[i] )\n",
    "                            y1[i+1] = y1[i] * growth_rate1[i]\n",
    "                            y2[i+1] = y2[i] * growth_rate2[i]\n",
    "                        S=np.array([S1,S2])\n",
    "                        abundance=np.array([y1[-1],y2[-1]])\n",
    "                        cov=np.append(cov,np.cov(abundance, S)[0][1])\n",
    "                        final_abundance1=np.append(final_abundance1,y1[-1])\n",
    "                        final_abundance2=np.append(final_abundance2,y2[-1])\n",
    "                        final_growth_rate1=np.append(final_growth_rate1,growth_rate1[-2])\n",
    "                        final_growth_rate2=np.append(final_growth_rate2,growth_rate2[-2])\n",
    "                        df.write(str(r1) + \"\\t\" + str(r2) + \"\\t\" + str(a11) + \"\\t\" + str(a12) + \"\\t\" + str(a21) + \"\\t\" + str(a22) + \"\\t\" + str(y1[-1]) + \"\\t\" + str(y2[-1]) + \"\\t\" + str(y1[-1]/(y1[-1]+y2[-1])) + \"\\t\" + str(y2[-1]/(y1[-1]+y2[-1])) + \"\\t\" + str((y1[-1]-y1[-2])) + \"\\t\" + str((y2[-1]-y2[-2])) + \"\\t\" + str(np.log(y1[-1]-y1[-2])) + \"\\t\" + str(np.log(y2[-1]-y2[-2])) + \"\\t\" + str(S1) + \"\\t\" + str(S2))\n",
    "                        df.write('\\n')\n",
    "df.close()"
   ]
  },
  {
   "cell_type": "code",
   "execution_count": 4,
   "metadata": {},
   "outputs": [
    {
     "data": {
      "text/plain": [
       "array([5.        , 4.75      , 3.86923901, 3.06682196, 2.46410674,\n",
       "       2.02968308, 1.71277089, 1.47538655, 1.29259586, 1.14828162,\n",
       "       1.03184693, 0.93614169, 0.85620952, 0.78852593, 0.73052584,\n",
       "       0.68030296, 0.63641398, 0.59774765, 0.56343552, 0.53278966,\n",
       "       0.50525849, 0.48039484, 0.45783257, 0.43726912, 0.41845236,\n",
       "       0.40117057, 0.38524471, 0.37052239, 0.35687308, 0.34418439,\n",
       "       0.33235899, 0.32131221, 0.31097007, 0.3012676 , 0.29214758,\n",
       "       0.28355935, 0.27545797, 0.26780337, 0.26055978, 0.2536951 ,\n",
       "       0.2471805 , 0.24098999, 0.23510007, 0.22948946, 0.22413883,\n",
       "       0.2190306 , 0.21414871, 0.20947852, 0.20500659, 0.2007206 ,\n",
       "       0.19660924, 0.19266208, 0.18886952, 0.18522266, 0.18171332,\n",
       "       0.17833386, 0.17507725, 0.17193691, 0.16890675, 0.16598109,\n",
       "       0.16315463, 0.16042242, 0.15777984, 0.15522256, 0.15274653,\n",
       "       0.15034795, 0.14802324, 0.14576906, 0.14358226, 0.14145986,\n",
       "       0.13939906, 0.13739724, 0.13545189, 0.13356068, 0.13172137,\n",
       "       0.12993186, 0.12819016, 0.12649439, 0.12484276, 0.12323356,\n",
       "       0.1216652 , 0.12013612, 0.11864489, 0.11719012, 0.11577048,\n",
       "       0.11438473, 0.11303166, 0.11171013, 0.11041907, 0.10915742,\n",
       "       0.1079242 , 0.10671846, 0.10553929, 0.10438582, 0.10325723,\n",
       "       0.10215271, 0.10107152, 0.10001291, 0.09897619, 0.0979607 ])"
      ]
     },
     "execution_count": 4,
     "metadata": {},
     "output_type": "execute_result"
    }
   ],
   "source": [
    "y1"
   ]
  },
  {
   "cell_type": "code",
   "execution_count": 5,
   "metadata": {},
   "outputs": [
    {
     "data": {
      "text/plain": [
       "0.09796069534048257"
      ]
     },
     "execution_count": 5,
     "metadata": {},
     "output_type": "execute_result"
    }
   ],
   "source": [
    "y1[-1]"
   ]
  },
  {
   "cell_type": "code",
   "execution_count": 6,
   "metadata": {},
   "outputs": [
    {
     "data": {
      "text/plain": [
       "-0.0010154980763320415"
      ]
     },
     "execution_count": 6,
     "metadata": {},
     "output_type": "execute_result"
    }
   ],
   "source": [
    "(y1[-1]-y1[-2])"
   ]
  },
  {
   "cell_type": "code",
   "execution_count": 7,
   "metadata": {},
   "outputs": [
    {
     "data": {
      "text/plain": [
       "99"
      ]
     },
     "execution_count": 7,
     "metadata": {},
     "output_type": "execute_result"
    }
   ],
   "source": [
    "len(y1[+1:])"
   ]
  },
  {
   "cell_type": "code",
   "execution_count": 8,
   "metadata": {},
   "outputs": [
    {
     "data": {
      "text/plain": [
       "99"
      ]
     },
     "execution_count": 8,
     "metadata": {},
     "output_type": "execute_result"
    }
   ],
   "source": [
    "len(y1[:-1])"
   ]
  },
  {
   "cell_type": "markdown",
   "metadata": {},
   "source": [
    "# Test graph"
   ]
  },
  {
   "cell_type": "code",
   "execution_count": 9,
   "metadata": {},
   "outputs": [
    {
     "ename": "ValueError",
     "evalue": "operands could not be broadcast together with shapes (99,) (2114100,) ",
     "output_type": "error",
     "traceback": [
      "\u001b[0;31m---------------------------------------------------------------------------\u001b[0m",
      "\u001b[0;31mValueError\u001b[0m                                Traceback (most recent call last)",
      "Input \u001b[0;32mIn [9]\u001b[0m, in \u001b[0;36m<cell line: 7>\u001b[0;34m()\u001b[0m\n\u001b[1;32m      1\u001b[0m \u001b[38;5;66;03m#TP = final_abundance1 + final_abundance2\u001b[39;00m\n\u001b[1;32m      2\u001b[0m \u001b[38;5;66;03m#relative_abundance1 = final_abundance1 / TP\u001b[39;00m\n\u001b[1;32m      3\u001b[0m \u001b[38;5;66;03m#relative_abundance2 = final_abundance2 / TP\u001b[39;00m\n\u001b[1;32m      5\u001b[0m TP \u001b[38;5;241m=\u001b[39m final_abundance1 \u001b[38;5;241m+\u001b[39m final_abundance2\n\u001b[0;32m----> 7\u001b[0m Nfreq1 \u001b[38;5;241m=\u001b[39m \u001b[43m(\u001b[49m\u001b[43my1\u001b[49m\u001b[43m[\u001b[49m\u001b[38;5;241;43m+\u001b[39;49m\u001b[38;5;241;43m1\u001b[39;49m\u001b[43m:\u001b[49m\u001b[43m]\u001b[49m\u001b[38;5;241;43m-\u001b[39;49m\u001b[43my1\u001b[49m\u001b[43m[\u001b[49m\u001b[43m:\u001b[49m\u001b[38;5;241;43m-\u001b[39;49m\u001b[38;5;241;43m1\u001b[39;49m\u001b[43m]\u001b[49m\u001b[43m)\u001b[49m\u001b[43m \u001b[49m\u001b[38;5;241;43m/\u001b[39;49m\u001b[43m \u001b[49m\u001b[43mTP\u001b[49m\n\u001b[1;32m      8\u001b[0m Nfreq2 \u001b[38;5;241m=\u001b[39m (y2[\u001b[38;5;241m+\u001b[39m\u001b[38;5;241m1\u001b[39m:]\u001b[38;5;241m-\u001b[39my2[:\u001b[38;5;241m-\u001b[39m\u001b[38;5;241m1\u001b[39m]) \u001b[38;5;241m/\u001b[39m TP\n\u001b[1;32m     10\u001b[0m growth_rate_1 \u001b[38;5;241m=\u001b[39m np\u001b[38;5;241m.\u001b[39mlog(y1[\u001b[38;5;241m+\u001b[39m\u001b[38;5;241m1\u001b[39m:]\u001b[38;5;241m-\u001b[39my1[:\u001b[38;5;241m-\u001b[39m\u001b[38;5;241m1\u001b[39m])\n",
      "\u001b[0;31mValueError\u001b[0m: operands could not be broadcast together with shapes (99,) (2114100,) "
     ]
    }
   ],
   "source": [
    "#TP = final_abundance1 + final_abundance2\n",
    "#relative_abundance1 = final_abundance1 / TP\n",
    "#relative_abundance2 = final_abundance2 / TP\n",
    "\n",
    "TP = final_abundance1 + final_abundance2\n",
    "\n",
    "Nfreq1 = (y1[+1:]-y1[:-1]) / TP\n",
    "Nfreq2 = (y2[+1:]-y2[:-1]) / TP\n",
    "\n",
    "growth_rate_1 = np.log(y1[+1:]-y1[:-1])\n",
    "growth_rate_2 = np.log(y2[+1:]-y2[:-1])"
   ]
  },
  {
   "cell_type": "code",
   "execution_count": null,
   "metadata": {},
   "outputs": [],
   "source": [
    "len(relative_abundance1)"
   ]
  },
  {
   "cell_type": "code",
   "execution_count": null,
   "metadata": {},
   "outputs": [],
   "source": [
    "len(growth_rate_1)"
   ]
  },
  {
   "cell_type": "code",
   "execution_count": null,
   "metadata": {},
   "outputs": [],
   "source": [
    "N = np.linspace(1,ymax,ymax)\n",
    "fig, (ax1,ax2) = plt.subplots(2,figsize=(14, 10))\n",
    "# Finite Growth Rate\n",
    "# Species 1\n",
    "ax1.plot(relative_abundance1, growth_rate_1, alpha=0.5,linestyle=\"dotted\", linewidth=10, markersize=12, color=\"r\")\n",
    "ax1.axhline(y=1, color='grey', linestyle='-')\n",
    "ax1.set(ylabel='$N_{1,t+1}/N_{1,t}$')\n",
    "# Species 2\n",
    "ax2.plot(relative_abundance2, growth_rate_2, alpha=0.5,linestyle=\"dashed\", linewidth=10, markersize=12, color=\"b\")\n",
    "ax2.axhline(y=1, color='grey', linestyle='-')\n",
    "ax2.set(ylabel='$N_{2,t+1}/N_{2,t}$')"
   ]
  }
 ],
 "metadata": {
  "jupytext": {
   "formats": "ipynb,py:light"
  },
  "kernelspec": {
   "display_name": "Python 3 (ipykernel)",
   "language": "python",
   "name": "python3"
  },
  "language_info": {
   "codemirror_mode": {
    "name": "ipython",
    "version": 3
   },
   "file_extension": ".py",
   "mimetype": "text/x-python",
   "name": "python",
   "nbconvert_exporter": "python",
   "pygments_lexer": "ipython3",
   "version": "3.10.4"
  }
 },
 "nbformat": 4,
 "nbformat_minor": 4
}
