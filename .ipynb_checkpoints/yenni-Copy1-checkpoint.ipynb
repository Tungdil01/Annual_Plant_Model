{
 "cells": [
  {
   "cell_type": "markdown",
   "metadata": {},
   "source": [
    "## Discrete-time competitive Beverton-Holt model"
   ]
  },
  {
   "cell_type": "markdown",
   "metadata": {},
   "source": [
    "\\begin{align}\n",
    "N_{1,t+1}=\\dfrac{r_1N_{1,t}}{1+a_{11}N_{1,t}+a_{12}N_{2,t}} \\\\\n",
    "N_{2,t+1}=\\dfrac{r_2N_{2,t}}{1+a_{22}N_{2,t}+a_{21}N_{1,t}}\n",
    "\\tag{1}\n",
    "\\end{align}"
   ]
  },
  {
   "cell_type": "markdown",
   "metadata": {},
   "source": [
    "## Packages"
   ]
  },
  {
   "cell_type": "code",
   "execution_count": 1,
   "metadata": {},
   "outputs": [],
   "source": [
    "import numpy as np\n",
    "import matplotlib.pyplot as plt"
   ]
  },
  {
   "cell_type": "markdown",
   "metadata": {},
   "source": [
    "## Initialization"
   ]
  },
  {
   "cell_type": "code",
   "execution_count": 2,
   "metadata": {},
   "outputs": [],
   "source": [
    "tmax = 100"
   ]
  },
  {
   "cell_type": "markdown",
   "metadata": {},
   "source": [
    "# Variables for the time series\n",
    "tmax = 100\n",
    "time = np.linspace(1,tmax,tmax)\n",
    "y1 = np.zeros(tmax)\n",
    "y2 = np.zeros(tmax)\n",
    "y1[0], y2[0] = 5, 5 #0.4, 0.6 # initial conditions\n",
    "final_abundance1=np.zeros(0)\n",
    "final_growth_rate1=np.zeros(0)\n",
    "final_abundance2=np.zeros(0)\n",
    "final_growth_rate2=np.zeros(0)\n",
    "cov=np.zeros(0)\n",
    "\n",
    "growth_rate1 = np.zeros(tmax)\n",
    "growth_rate2 = np.zeros(tmax)\n",
    "positive_growth_rate1=np.zeros(0)\n",
    "positive_growth_rate2=np.zeros(0)\n",
    "negative_growth_rate1=np.zeros(0)\n",
    "negative_growth_rate2=np.zeros(0)\n",
    "zero_growth_rate1=np.zeros(0)\n",
    "zero_growth_rate2=np.zeros(0)\n",
    "positive_final_abundance1=np.zeros(0)\n",
    "positive_final_abundance2=np.zeros(0)\n",
    "negative_final_abundance1=np.zeros(0)\n",
    "negative_final_abundance2=np.zeros(0)\n",
    "zero_final_abundance1=np.zeros(0)\n",
    "zero_final_abundance2=np.zeros(0)\n",
    "\n",
    "# Variables for the per capita growth rate\n",
    "ymax = 50\n",
    "y1_SR = np.zeros(ymax)\n",
    "y2_SR = np.zeros(ymax)\n",
    "growth_rate1_SR = np.zeros(ymax)\n",
    "growth_rate2_SR = np.zeros(ymax)"
   ]
  },
  {
   "cell_type": "markdown",
   "metadata": {},
   "source": [
    "## Test for only one set of parameters"
   ]
  },
  {
   "cell_type": "code",
   "execution_count": 3,
   "metadata": {},
   "outputs": [],
   "source": [
    "r1=20\n",
    "r2=16\n",
    "a11=2.7\n",
    "a12=0.6\n",
    "a21=0.6\n",
    "a22=0.6"
   ]
  },
  {
   "cell_type": "code",
   "execution_count": 4,
   "metadata": {},
   "outputs": [
    {
     "data": {
      "image/png": "[encoded data removed]",
      "text/plain": [
       "<Figure size 1400x1000 with 2 Axes>"
      ]
     },
     "metadata": {},
     "output_type": "display_data"
    }
   ],
   "source": [
    "N1 = np.zeros(tmax)\n",
    "N2 = np.zeros(tmax)\n",
    "NpNa1 = np.zeros(tmax)\n",
    "NpNa2 = np.zeros(tmax)\n",
    "Nd1 = np.zeros(tmax+1)\n",
    "Nd2 = np.zeros(tmax+1)\n",
    "\n",
    "for i in range(0,tmax):\n",
    "    NpNa1[i] = r1 / ( 1 + a11 * N1[i] + a12 * N2[i] )\n",
    "    NpNa2[i] = r2 / ( 1 + a22 * N2[i] + a21 * N1[i] )\n",
    "    Nd1[i+1] = N1[i] * NpNa1[i]\n",
    "    Nd2[i+1] = N2[i] * NpNa2[i]\n",
    "\n",
    "fig, (ax1,ax2) = plt.subplots(2,figsize=(14, 10))\n",
    "ax1.plot(N1[0:-1], NpNa1[0:-1], alpha=0.5,linestyle=\"--\", linewidth=10, markersize=12, color=\"r\")\n",
    "ax1.set(xlabel='$N_{1,t}$', ylabel='$\\log(N_{1,t+1}/N_{1,t})$')\n",
    "ax2.plot(N2[0:-1], NpNa2[0:-1], alpha=0.5,linestyle=\"--\", linewidth=10, markersize=12, color=\"b\")\n",
    "ax2.set(xlabel='$N_{2,t}$', ylabel='$\\log(N_{2,t+1}/N_{2,t})$')\n",
    "plt.rcParams.update({'font.size': 30})\n",
    "plt.tight_layout()\n",
    "plt.show()"
   ]
  },
  {
   "cell_type": "code",
   "execution_count": 5,
   "metadata": {},
   "outputs": [
    {
     "ename": "NameError",
     "evalue": "name 'stop' is not defined",
     "output_type": "error",
     "traceback": [
      "\u001b[0;31m---------------------------------------------------------------------------\u001b[0m",
      "\u001b[0;31mNameError\u001b[0m                                 Traceback (most recent call last)",
      "Input \u001b[0;32mIn [5]\u001b[0m, in \u001b[0;36m<cell line: 1>\u001b[0;34m()\u001b[0m\n\u001b[0;32m----> 1\u001b[0m \u001b[43mstop\u001b[49m\n",
      "\u001b[0;31mNameError\u001b[0m: name 'stop' is not defined"
     ]
    }
   ],
   "source": [
    "stop"
   ]
  },
  {
   "cell_type": "code",
   "execution_count": null,
   "metadata": {},
   "outputs": [],
   "source": [
    "## Strength of stabilization\n",
    "S1=r2/(1+(a12/a22)*(r2-1))\n",
    "S2=r1/(1+(a21/a11)*(r1-1))                     \n",
    "## Discrete-time competitive Beverton-Holt model\n",
    "for i in range(tmax-1):\n",
    "    growth_rate1[i] = r1 / ( 1 + a11 * y1[i] + a12 * y2[i] )\n",
    "    growth_rate2[i] = r2 / ( 1 + a22 * y2[i] + a21 * y1[i] )\n",
    "    y1[i+1] = y1[i] * growth_rate1[i]\n",
    "    y2[i+1] = y2[i] * growth_rate2[i]\n",
    "\n",
    "# Dummy plot\n",
    "fig, ax = plt.subplots(figsize=(0.1, 0.1))\n",
    "ax.plot(time, y1, alpha=0.5,linestyle=\"--\", linewidth=10, markersize=12, color=\"r\")\n",
    "plt.rcParams.update({'font.size': 30})\n",
    "\n",
    "fig, (ax1,ax2) = plt.subplots(2,figsize=(14, 10))\n",
    "ax1.plot(time, y1, alpha=0.5,linestyle=\"--\", linewidth=10, markersize=12, color=\"r\", label='S1='+str(S1))\n",
    "ax1.set(ylabel='$N_{1,t}$')\n",
    "ax2.plot(time, y2, alpha=0.5,linestyle=\"--\", linewidth=10, markersize=12, color=\"b\", label='S2='+str(S2))\n",
    "ax2.set(xlabel='Time (days)', ylabel='$N_{2,t}$')\n",
    "plt.rcParams.update({'font.size': 30})\n",
    "ax1.set_title('r1='+str(r1)+',r2='+str(r2)+',a11='+str(a11)+',a12='+str(a12)+',a21='+str(a21)+',a22='+str(a22), fontsize=25)\n",
    "plt.tight_layout()\n",
    "#plt.savefig('img/time_series1_r1_'+str(r1)+'_r2_'+str(r2)+'_a11_'+str(a11)+'_a12_'+str(a12)+'_a21_'+str(a21)+'_a22_'+str(a22)+'.png', format='png', dpi=50)\n",
    "plt.show()"
   ]
  },
  {
   "cell_type": "markdown",
   "metadata": {},
   "source": [
    "## Covariance: strength of stabilization and final population"
   ]
  },
  {
   "cell_type": "code",
   "execution_count": null,
   "metadata": {},
   "outputs": [],
   "source": [
    "for r1 in range(15,21,2):\n",
    "    for r2 in range(11,21,2):\n",
    "        for a11 in np.arange(0.7,3.1,0.2):\n",
    "            for a12 in np.arange(0.1,1.1,0.2):\n",
    "                for a21 in np.arange(0.1,1.1,0.2):\n",
    "                    for a22 in np.arange(0.1,1.1,0.2):\n",
    "                        ## Strength of stabilization\n",
    "                        S1=r2/(1+(a12/a22)*(r2-1))\n",
    "                        S2=r1/(1+(a21/a11)*(r1-1))                     \n",
    "                        ## Discrete-time competitive Beverton-Holt model\n",
    "                        for i in range(tmax-1):\n",
    "                            growth_rate1[i] = r1 / ( 1 + a11 * y1[i] + a12 * y2[i] )\n",
    "                            growth_rate2[i] = r2 / ( 1 + a22 * y2[i] + a21 * y1[i] )\n",
    "                            y1[i+1] = y1[i] * growth_rate1[i]\n",
    "                            y2[i+1] = y2[i] * growth_rate2[i]\n",
    "#                        print(\"per capita: \" + str(growth_rate1[-2]) )#+ \"\\t\" + \"time: \" + str(i))\n",
    "                        S=np.array([S1,S2])\n",
    "                        abundance=np.array([y1[-1],y2[-1]])\n",
    "                        cov=np.append(cov,np.cov(abundance, S)[0][1])\n",
    "                        final_abundance1=np.append(final_abundance1,y1[-1])\n",
    "                        final_abundance2=np.append(final_abundance2,y2[-1])\n",
    "                        final_growth_rate1=np.append(final_growth_rate1,growth_rate1[-2])\n",
    "                        final_growth_rate2=np.append(final_growth_rate2,growth_rate2[-2])"
   ]
  },
  {
   "cell_type": "code",
   "execution_count": null,
   "metadata": {},
   "outputs": [],
   "source": [
    "final_growth_rate1[-1]"
   ]
  },
  {
   "cell_type": "code",
   "execution_count": null,
   "metadata": {
    "scrolled": false
   },
   "outputs": [],
   "source": [
    "for i in range(len(cov)):\n",
    "    if np.absolute(cov[i])<1e-5:\n",
    "        cov[i]=0.0\n",
    "\n",
    "print(\"covariance: \\n\",cov)\n",
    "cov.shape"
   ]
  },
  {
   "cell_type": "code",
   "execution_count": null,
   "metadata": {},
   "outputs": [],
   "source": [
    "for i in range(len(cov)):\n",
    "    if cov[i]>0:\n",
    "        positive_growth_rate1=np.append(positive_growth_rate1,final_growth_rate1[i])\n",
    "        positive_growth_rate2=np.append(positive_growth_rate2,final_growth_rate2[i])\n",
    "        positive_final_abundance1=np.append(positive_final_abundance1,final_abundance1[i])\n",
    "        positive_final_abundance2=np.append(positive_final_abundance2,final_abundance2[i])\n",
    "    elif cov[i]<0:\n",
    "        negative_growth_rate1=np.append(negative_growth_rate1,final_growth_rate1[i])\n",
    "        negative_growth_rate2=np.append(negative_growth_rate2,final_growth_rate2[i])\n",
    "        negative_final_abundance1=np.append(negative_final_abundance1,final_abundance1[i])\n",
    "        negative_final_abundance2=np.append(negative_final_abundance2,final_abundance2[i])\n",
    "    else:\n",
    "        zero_growth_rate1=np.append(zero_growth_rate1,final_growth_rate1[i])\n",
    "        zero_growth_rate2=np.append(zero_growth_rate2,final_growth_rate2[i])\n",
    "        zero_final_abundance1=np.append(zero_final_abundance1,final_abundance1[i])\n",
    "        zero_final_abundance2=np.append(zero_final_abundance2,final_abundance2[i])"
   ]
  },
  {
   "cell_type": "markdown",
   "metadata": {},
   "source": [
    "## Time series"
   ]
  },
  {
   "cell_type": "code",
   "execution_count": null,
   "metadata": {},
   "outputs": [],
   "source": [
    "fig, (ax1,ax2) = plt.subplots(2,figsize=(14, 10))\n",
    "ax1.plot(time, y1, alpha=0.5,linestyle=\"--\", linewidth=10, markersize=12, color=\"r\", label='S1='+str(S1))\n",
    "ax1.set(ylabel='$N_{1,t}$')\n",
    "ax2.plot(time, y2, alpha=0.5,linestyle=\"--\", linewidth=10, markersize=12, color=\"b\", label='S2='+str(S2))\n",
    "ax2.set(xlabel='Time (days)', ylabel='$N_{2,t}$')\n",
    "plt.rcParams.update({'font.size': 30})\n",
    "ax1.set_title('covariance='+str(np.cov(abundance, S)[0][1])+'\\n'+'r1='+str(r1)+',r2='+str(r2)+',a11='+str(a11)+',a12='+str(a12)+',a21='+str(a21)+',a22='+str(a22), fontsize=25)\n",
    "plt.tight_layout()\n",
    "plt.savefig('img/time_series_r1_'+str(r1)+'_r2_'+str(r2)+'_a11_'+str(a11)+'_a12_'+str(a12)+'_a21_'+str(a21)+'_a22_'+str(a22)+'.png', format='png', dpi=50)\n",
    "plt.show()"
   ]
  },
  {
   "cell_type": "markdown",
   "metadata": {},
   "source": [
    "## Yenni's graph"
   ]
  },
  {
   "cell_type": "code",
   "execution_count": null,
   "metadata": {},
   "outputs": [],
   "source": []
  },
  {
   "cell_type": "code",
   "execution_count": null,
   "metadata": {},
   "outputs": [],
   "source": []
  },
  {
   "cell_type": "markdown",
   "metadata": {},
   "source": [
    "## Finite Growth Rate and Stock Recruitment Curve"
   ]
  },
  {
   "cell_type": "code",
   "execution_count": null,
   "metadata": {},
   "outputs": [],
   "source": [
    "## Discrete-time competitive Beverton-Holt model\n",
    "for i in range(ymax):\n",
    "    growth_rate1_SR[i] = r1 / ( 1 + a11 * y1_SR[i] + a12 * y2_SR[i] )\n",
    "    growth_rate2_SR[i] = r2 / ( 1 + a22 * y2_SR[i] + a21 * y1_SR[i] )\n",
    "    y1_SR[i] = y1_SR[i] * growth_rate1_SR[i]\n",
    "    y2_SR[i] = y2_SR[i] * growth_rate2_SR[i]"
   ]
  },
  {
   "cell_type": "code",
   "execution_count": null,
   "metadata": {},
   "outputs": [],
   "source": [
    "N = np.linspace(1,ymax,ymax)\n",
    "fig, (ax1,ax2) = plt.subplots(2,figsize=(14, 10))\n",
    "# Finite Growth Rate\n",
    "ax1.plot(N[0:-1], growth_rate1_SR[0:-1], alpha=0.5,linestyle=\"dotted\", linewidth=10, markersize=12, color=\"r\")\n",
    "ax1.axhline(y=1, color='grey', linestyle='-')\n",
    "ax1.set(ylabel='$N_{1,t+1}/N_{1,t}$')\n",
    "# Stock-Recruitment\n",
    "ax2.plot(N, y1_SR, alpha=0.5,linestyle=\"dotted\", linewidth=10, markersize=12, color=\"y\")\n",
    "ax2.plot(N,N, color=\"grey\") # add a straight line\n",
    "ax2.set_ylim([-1, 5])\n",
    "ax2.set(xlabel='$N_{1,t}$', ylabel='$N_{1,t+1}$')\n",
    "# Finite Growth Rate\n",
    "ax1.plot(N[0:-1], growth_rate2_SR[0:-1], alpha=0.5,linestyle=\"dotted\", linewidth=10, markersize=12, color=\"b\")\n",
    "ax1.axhline(y=1, color='grey', linestyle='-')\n",
    "ax1.set(ylabel='$N_{2,t+1}/N_{2,t}$')\n",
    "# Stock-Recruitment\n",
    "ax2.plot(N, y2_SR, alpha=0.5,linestyle=\"dotted\", linewidth=10, markersize=12, color=\"g\")\n",
    "ax2.plot(N,N, color=\"grey\") # add a straight line\n",
    "ax2.set_ylim([-1, 5])\n",
    "ax2.set(xlabel='$N_{2,t}$', ylabel='$N_{2,t+1}$')\n",
    "plt.rcParams.update({'font.size': 30})\n",
    "ax1.set_title('covariance='+str(np.cov(abundance, S)[0][1])+'\\n'+'r1='+str(r1)+',r2='+str(r2)+',a11='+str(a11)+',a12='+str(a12)+',a21='+str(a21)+',a22='+str(a22), fontsize=25)\n",
    "plt.tight_layout(pad=0)\n",
    "plt.savefig('img/finite_growth_rate_r1_'+str(r1)+'_r2_'+str(r2)+'_a11_'+str(a11)+'_a12_'+str(a12)+'_a21_'+str(a21)+'_a22_'+str(a22)+'.png', format='png', dpi=50, bbox_inches='tight')\n",
    "plt.show()"
   ]
  }
 ],
 "metadata": {
  "jupytext": {
   "formats": "ipynb,py:light"
  },
  "kernelspec": {
   "display_name": "Python 3 (ipykernel)",
   "language": "python",
   "name": "python3"
  },
  "language_info": {
   "codemirror_mode": {
    "name": "ipython",
    "version": 3
   },
   "file_extension": ".py",
   "mimetype": "text/x-python",
   "name": "python",
   "nbconvert_exporter": "python",
   "pygments_lexer": "ipython3",
   "version": "3.10.4"
  }
 },
 "nbformat": 4,
 "nbformat_minor": 4
}
