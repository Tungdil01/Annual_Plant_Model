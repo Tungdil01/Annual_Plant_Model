{
 "cells": [
  {
   "cell_type": "markdown",
   "metadata": {},
   "source": [
    "# Convert a R script into Python\n",
    "\n",
    "This notebook introduces the function [r2python](find://code-r2python) which converts *R* into *Python*. It does not work for eveything, it is being improved everytime it is needed."
   ]
  },
  {
   "cell_type": "code",
   "execution_count": 1,
   "metadata": {},
   "outputs": [],
   "source": [
    "rscript = \"\"\"\n",
    "nb=function(y=1930){\n",
    "debut=1816\n",
    "MatDFemale=matrix(D$Female,nrow=111)\n",
    "colnames(MatDFemale)=(debut+0):198\n",
    "cly=(y-debut+1):111\n",
    "deces=diag(MatDFemale[:,cly[cly%in%1:199]])\n",
    "return(c(B$Female[B$Year==y],deces))}\n",
    "\"\"\""
   ]
  },
  {
   "cell_type": "code",
   "execution_count": 2,
   "metadata": {
    "scrolled": false
   },
   "outputs": [
    {
     "ename": "ModuleNotFoundError",
     "evalue": "No module named 'pyensae'",
     "output_type": "error",
     "traceback": [
      "\u001b[0;31m---------------------------------------------------------------------------\u001b[0m",
      "\u001b[0;31mModuleNotFoundError\u001b[0m                       Traceback (most recent call last)",
      "Input \u001b[0;32mIn [2]\u001b[0m, in \u001b[0;36m<cell line: 1>\u001b[0;34m()\u001b[0m\n\u001b[0;32m----> 1\u001b[0m \u001b[38;5;28;01mfrom\u001b[39;00m \u001b[38;5;21;01mpyensae\u001b[39;00m\u001b[38;5;21;01m.\u001b[39;00m\u001b[38;5;21;01mlanguages\u001b[39;00m \u001b[38;5;28;01mimport\u001b[39;00m r2python\n\u001b[1;32m      2\u001b[0m \u001b[38;5;28mprint\u001b[39m(r2python(rscript, pep8\u001b[38;5;241m=\u001b[39m\u001b[38;5;28;01mTrue\u001b[39;00m))\n",
      "\u001b[0;31mModuleNotFoundError\u001b[0m: No module named 'pyensae'"
     ]
    }
   ],
   "source": [
    "from pyensae.languages import r2python\n",
    "print(r2python(rscript, pep8=True))"
   ]
  },
  {
   "cell_type": "markdown",
   "metadata": {},
   "source": [
    "It adds some not implemented function such as ``colnames(MatDFemale) .set(range((debut + 0), 198))`` because the original syntax ``colnames(MatDFemale)=debut+0:198`` does not work in *Python*. The conversion does not fix indices (first position is zero in *Python* and 1 in *R*). The bracket ``(debut+0):198`` are needed to tell the converter the beginning of the expression. The operator ``%in%`` is converted into a set intersection."
   ]
  },
  {
   "cell_type": "code",
   "execution_count": null,
   "metadata": {},
   "outputs": [],
   "source": [
    "print(date())\n",
    "# parameters -----------------------------------------\n",
    "  # name of output file:\n",
    "  outfile =  \"annplant_2spp_det.csv\"\n",
    "\n",
    "  #specify combinations of freq-dep parameters\n",
    "  l1_v=10:20 # this is for r1\n",
    "  l2_v=10:20 # this is for r2\n",
    "\n",
    "  a11_v=seq(0.1,1,by=0.1)\n",
    "  a12_v=seq(0.1,1,by=0.1)\n",
    "  a21_v=seq(0.1,1,by=0.1)\n",
    "  a22_v=seq(0.1,1,by=0.1)\n",
    "\n",
    "  simul = expand.grid(\"l1\"=l1_v,\"l2\"=l2_v,\"a11\"=a11_v,\"a12\"=a12_v,\"a21\"=a21_v,\"a22\"=a22_v)\n",
    "\n",
    "\n",
    "#2-species annual plant model analytical solution----------------------------------------------\n",
    "analyN = function(r1, r2, a1, a12, a21, a2){\n",
    "    N1 = (r1-1-(a12/a2)*(r2-1))/(a1-a21*a12/a2)\n",
    "    N2 = (r2-1-(a21/a1)*(r1-1))/(a2-a21*a12/a1)\n",
    "    return(c(N1,N2))\n",
    "}\n",
    "\n",
    "#simulation output\n",
    "simul$N1 = NA\n",
    "simul$N2 = NA\n",
    "simul$coexist = NA\n",
    "\n",
    "#simulation loop-------------------------------------\n",
    "for(iSim in 1:dim(simul)[1]) {\n",
    "\n",
    "    l1=simul$l1[iSim]           #get parameter combo\n",
    "    l2=simul$l2[iSim]\n",
    "    a11=simul$a11[iSim]\n",
    "    a12=simul$a12[iSim]\n",
    "    a21=simul$a21[iSim]\n",
    "    a22=simul$a22[iSim]\n",
    "    \n",
    "#simulation stats\n",
    "simul$N1[iSim] = analyN(l1,l2,a11,a12,a21,a22)[1]\n",
    "simul$N2[iSim] = analyN(l1,l2,a11,a12,a21,a22)[2]\n",
    "simul$coexist[iSim] = ifelse(sum((simul[iSim,7:8]<=0)>=1),0,1)\n",
    "\n",
    "#progress update\n",
    "#  tmp = paste(\"Parameter combination\",iSim,\"of\",dim(simul)[1],sep=\" \")\n",
    "#  print(tmp)\n",
    "#  print(date())\n",
    "#  flush.console()\n",
    "} #next parm combo (iSim)\n",
    "\n",
    "\n",
    "write.table(simul,outfile, sep=\",\",row.names=FALSE)\n",
    "\n",
    "pdf(file=\"saving_plot.pdf\")\n",
    "# if only one run performed, make figures\n",
    "if(dim(simul)[1]==1){\n",
    "  par(mfrow=c(1,2),tcl=-0.2)\n",
    "  # plot density time series\n",
    "  matplot(N,type=\"l\",xlab=\"Time\",ylab=\"N\",col=c(\"steelblue\",\"firebrick\"))\n",
    "  # plot frequency dependence in growth\n",
    "  Nfreq = N/rowSums(N)  # calculate frequencies\n",
    "  Nfreq[Nfreq==1]=NA # remove values after one species goes exinct\n",
    "  growth = log(N[2:NROW(N),])-log(N[1:(NROW(N)-1),])\n",
    "  growth[growth==-Inf]=NA\n",
    "  myLims = c(min(growth,na.rm=T)-0.05,max(growth,na.rm=T)+0.05)\n",
    "  plot(Nfreq[1:NROW(Nfreq)-1,1],growth[,1],xlab=\"Frequency\",ylab=\"Growth rate\",\n",
    "    xlim=c(0,1),ylim=myLims,col=\"steelblue\")\n",
    "  abline(lm(growth[,1]~ Nfreq[1:NROW(Nfreq)-1,1] ),col=\"steelblue\")\n",
    "  par(new=T)\n",
    "  plot(Nfreq[1:NROW(Nfreq)-1,2],growth[,2],xlab=\"\",ylab=\"\",xaxt=\"n\",yaxt=\"n\",\n",
    "    xlim=c(0,1),ylim=myLims,col=\"firebrick\")\n",
    "  abline(lm(growth[,2]~ Nfreq[1:NROW(Nfreq)-1,2] ),col=\"firebrick\")\n",
    "  abline(0,0,lty=\"dotted\")\n",
    "  legend(\"topright\",legend=c(\"Spp 1\", \"Spp 2\"),lty=\"solid\",col=c(\"steelblue\",\"firebrick\"),bty=\"n\")\n",
    "}\n",
    "dev.off()"
   ]
  }
 ],
 "metadata": {
  "kernelspec": {
   "display_name": "Python 3 (ipykernel)",
   "language": "python",
   "name": "python3"
  },
  "language_info": {
   "codemirror_mode": {
    "name": "ipython",
    "version": 3
   },
   "file_extension": ".py",
   "mimetype": "text/x-python",
   "name": "python",
   "nbconvert_exporter": "python",
   "pygments_lexer": "ipython3",
   "version": "3.10.4"
  }
 },
 "nbformat": 4,
 "nbformat_minor": 2
}
