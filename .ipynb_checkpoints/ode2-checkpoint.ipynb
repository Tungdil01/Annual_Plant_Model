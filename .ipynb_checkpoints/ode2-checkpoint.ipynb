{
 "cells": [
  {
   "cell_type": "code",
   "execution_count": 1,
   "metadata": {},
   "outputs": [],
   "source": [
    "import numpy as np\n",
    "import matplotlib.pyplot as plt\n",
    "from scipy.integrate import solve_ivp  # to solve ODE system"
   ]
  },
  {
   "cell_type": "code",
   "execution_count": 2,
   "metadata": {},
   "outputs": [
    {
     "data": {
      "image/png": "[encoded data removed]",
      "text/plain": [
       "<Figure size 10x10 with 1 Axes>"
      ]
     },
     "metadata": {},
     "output_type": "display_data"
    }
   ],
   "source": [
    "# Dummy plot\n",
    "fig, ax = plt.subplots(figsize=(0.1, 0.1))\n",
    "ax.axhline(y=1, color='grey', linestyle='-')\n",
    "plt.rcParams.update({'font.size': 30})"
   ]
  },
  {
   "cell_type": "markdown",
   "metadata": {},
   "source": [
    "# Species2-Species1"
   ]
  },
  {
   "cell_type": "code",
   "execution_count": 3,
   "metadata": {},
   "outputs": [],
   "source": [
    "method=\"Radau\"\n",
    "\n",
    "tmax = 30\n",
    "step = tmax*10\n",
    "time_list = np.linspace(0, tmax, step)"
   ]
  },
  {
   "cell_type": "markdown",
   "metadata": {},
   "source": [
    "## Parameter values"
   ]
  },
  {
   "cell_type": "code",
   "execution_count": 4,
   "metadata": {},
   "outputs": [],
   "source": [
    "r1=4\n",
    "r2=3\n",
    "K1=20\n",
    "K2=20\n",
    "a1=0.9\n",
    "a2=0.8"
   ]
  },
  {
   "cell_type": "code",
   "execution_count": 5,
   "metadata": {},
   "outputs": [],
   "source": [
    "def model_competitive_LV(\n",
    "    t,\n",
    "    X,\n",
    "    r1=r1,\n",
    "    r2=r2,\n",
    "    K1=K1,\n",
    "    K2=K2,\n",
    "    a1=a1,\n",
    "    a2=a2,\n",
    "):\n",
    "    N1,N2,per_capita1,per_capita2 = X\n",
    "    per_capita1=r1*(1-(N1+a2*N2)/K1)\n",
    "    per_capita2=r2*(1-(N2+a1*N1)/K2)\n",
    "    N1_prime=N1*per_capita1\n",
    "    N2_prime=N2*per_capita2\n",
    "    return N1_prime,N2_prime,per_capita1,per_capita2\n",
    "\n",
    "def ode_solver_competitive_LV(\n",
    "    y0,\n",
    "    t_span,\n",
    "    t_eval,\n",
    "    r1=r1,\n",
    "    r2=r2,\n",
    "    K1=K1,\n",
    "    K2=K2,\n",
    "    a1=a1,\n",
    "    a2=a2,\n",
    "):\n",
    "    solution_ODE_competitive_LV = solve_ivp(\n",
    "        fun=model_competitive_LV,\n",
    "        t_span=t_span,\n",
    "        y0=y0,\n",
    "        t_eval=t_eval,\n",
    "        args=(r1,r2,K1,K2,a1,a2),\n",
    "        method=method,\n",
    "    )\n",
    "    return solution_ODE_competitive_LV\n",
    "\n",
    "t0 = time_list.min()\n",
    "tf = time_list.max()\n",
    "days_to_forecast = 0"
   ]
  },
  {
   "cell_type": "code",
   "execution_count": 6,
   "metadata": {
    "scrolled": true
   },
   "outputs": [
    {
     "ename": "ValueError",
     "evalue": "not enough values to unpack (expected 4, got 2)",
     "output_type": "error",
     "traceback": [
      "\u001b[0;31m---------------------------------------------------------------------------\u001b[0m",
      "\u001b[0;31mValueError\u001b[0m                                Traceback (most recent call last)",
      "Cell \u001b[0;32mIn[6], line 3\u001b[0m\n\u001b[1;32m      1\u001b[0m y0 \u001b[38;5;241m=\u001b[39m np\u001b[38;5;241m.\u001b[39marray([\u001b[38;5;241m5\u001b[39m, \u001b[38;5;241m5\u001b[39m])\n\u001b[0;32m----> 3\u001b[0m solution_ODE_competitive_LV \u001b[38;5;241m=\u001b[39m \u001b[43mode_solver_competitive_LV\u001b[49m\u001b[43m(\u001b[49m\u001b[43my0\u001b[49m\u001b[43m,\u001b[49m\u001b[43m(\u001b[49m\u001b[43mt0\u001b[49m\u001b[43m,\u001b[49m\u001b[43m \u001b[49m\u001b[43mtf\u001b[49m\u001b[43m \u001b[49m\u001b[38;5;241;43m+\u001b[39;49m\u001b[43m \u001b[49m\u001b[43mdays_to_forecast\u001b[49m\u001b[43m)\u001b[49m\u001b[43m,\u001b[49m\u001b[43mtime_list\u001b[49m\u001b[43m,\u001b[49m\u001b[43mr1\u001b[49m\u001b[38;5;241;43m=\u001b[39;49m\u001b[43mr1\u001b[49m\u001b[43m,\u001b[49m\u001b[43mr2\u001b[49m\u001b[38;5;241;43m=\u001b[39;49m\u001b[43mr2\u001b[49m\u001b[43m,\u001b[49m\u001b[43mK1\u001b[49m\u001b[38;5;241;43m=\u001b[39;49m\u001b[43mK1\u001b[49m\u001b[43m,\u001b[49m\u001b[43mK2\u001b[49m\u001b[38;5;241;43m=\u001b[39;49m\u001b[43mK2\u001b[49m\u001b[43m,\u001b[49m\u001b[43ma1\u001b[49m\u001b[38;5;241;43m=\u001b[39;49m\u001b[43ma1\u001b[49m\u001b[43m,\u001b[49m\u001b[43ma2\u001b[49m\u001b[38;5;241;43m=\u001b[39;49m\u001b[43ma2\u001b[49m\u001b[43m)\u001b[49m\n\u001b[1;32m      4\u001b[0m t_computed_competitive_LV, y_computed_competitive_LV \u001b[38;5;241m=\u001b[39m solution_ODE_competitive_LV\u001b[38;5;241m.\u001b[39mt, solution_ODE_competitive_LV\u001b[38;5;241m.\u001b[39my\n\u001b[1;32m      5\u001b[0m Species1, Species2, per_capita1, per_capita1 \u001b[38;5;241m=\u001b[39m y_computed_competitive_LV\n",
      "Cell \u001b[0;32mIn[5], line 29\u001b[0m, in \u001b[0;36mode_solver_competitive_LV\u001b[0;34m(y0, t_span, t_eval, r1, r2, K1, K2, a1, a2)\u001b[0m\n\u001b[1;32m     18\u001b[0m \u001b[38;5;28;01mdef\u001b[39;00m \u001b[38;5;21mode_solver_competitive_LV\u001b[39m(\n\u001b[1;32m     19\u001b[0m     y0,\n\u001b[1;32m     20\u001b[0m     t_span,\n\u001b[0;32m   (...)\u001b[0m\n\u001b[1;32m     27\u001b[0m     a2\u001b[38;5;241m=\u001b[39ma2,\n\u001b[1;32m     28\u001b[0m ):\n\u001b[0;32m---> 29\u001b[0m     solution_ODE_competitive_LV \u001b[38;5;241m=\u001b[39m \u001b[43msolve_ivp\u001b[49m\u001b[43m(\u001b[49m\n\u001b[1;32m     30\u001b[0m \u001b[43m        \u001b[49m\u001b[43mfun\u001b[49m\u001b[38;5;241;43m=\u001b[39;49m\u001b[43mmodel_competitive_LV\u001b[49m\u001b[43m,\u001b[49m\n\u001b[1;32m     31\u001b[0m \u001b[43m        \u001b[49m\u001b[43mt_span\u001b[49m\u001b[38;5;241;43m=\u001b[39;49m\u001b[43mt_span\u001b[49m\u001b[43m,\u001b[49m\n\u001b[1;32m     32\u001b[0m \u001b[43m        \u001b[49m\u001b[43my0\u001b[49m\u001b[38;5;241;43m=\u001b[39;49m\u001b[43my0\u001b[49m\u001b[43m,\u001b[49m\n\u001b[1;32m     33\u001b[0m \u001b[43m        \u001b[49m\u001b[43mt_eval\u001b[49m\u001b[38;5;241;43m=\u001b[39;49m\u001b[43mt_eval\u001b[49m\u001b[43m,\u001b[49m\n\u001b[1;32m     34\u001b[0m \u001b[43m        \u001b[49m\u001b[43margs\u001b[49m\u001b[38;5;241;43m=\u001b[39;49m\u001b[43m(\u001b[49m\u001b[43mr1\u001b[49m\u001b[43m,\u001b[49m\u001b[43mr2\u001b[49m\u001b[43m,\u001b[49m\u001b[43mK1\u001b[49m\u001b[43m,\u001b[49m\u001b[43mK2\u001b[49m\u001b[43m,\u001b[49m\u001b[43ma1\u001b[49m\u001b[43m,\u001b[49m\u001b[43ma2\u001b[49m\u001b[43m)\u001b[49m\u001b[43m,\u001b[49m\n\u001b[1;32m     35\u001b[0m \u001b[43m        \u001b[49m\u001b[43mmethod\u001b[49m\u001b[38;5;241;43m=\u001b[39;49m\u001b[43mmethod\u001b[49m\u001b[43m,\u001b[49m\n\u001b[1;32m     36\u001b[0m \u001b[43m    \u001b[49m\u001b[43m)\u001b[49m\n\u001b[1;32m     37\u001b[0m     \u001b[38;5;28;01mreturn\u001b[39;00m solution_ODE_competitive_LV\n",
      "File \u001b[0;32m~/codes/Yenni/.env/lib/python3.10/site-packages/scipy/integrate/_ivp/ivp.py:542\u001b[0m, in \u001b[0;36msolve_ivp\u001b[0;34m(fun, t_span, y0, method, t_eval, dense_output, events, vectorized, args, **options)\u001b[0m\n\u001b[1;32m    539\u001b[0m \u001b[38;5;28;01mif\u001b[39;00m method \u001b[38;5;129;01min\u001b[39;00m METHODS:\n\u001b[1;32m    540\u001b[0m     method \u001b[38;5;241m=\u001b[39m METHODS[method]\n\u001b[0;32m--> 542\u001b[0m solver \u001b[38;5;241m=\u001b[39m \u001b[43mmethod\u001b[49m\u001b[43m(\u001b[49m\u001b[43mfun\u001b[49m\u001b[43m,\u001b[49m\u001b[43m \u001b[49m\u001b[43mt0\u001b[49m\u001b[43m,\u001b[49m\u001b[43m \u001b[49m\u001b[43my0\u001b[49m\u001b[43m,\u001b[49m\u001b[43m \u001b[49m\u001b[43mtf\u001b[49m\u001b[43m,\u001b[49m\u001b[43m \u001b[49m\u001b[43mvectorized\u001b[49m\u001b[38;5;241;43m=\u001b[39;49m\u001b[43mvectorized\u001b[49m\u001b[43m,\u001b[49m\u001b[43m \u001b[49m\u001b[38;5;241;43m*\u001b[39;49m\u001b[38;5;241;43m*\u001b[39;49m\u001b[43moptions\u001b[49m\u001b[43m)\u001b[49m\n\u001b[1;32m    544\u001b[0m \u001b[38;5;28;01mif\u001b[39;00m t_eval \u001b[38;5;129;01mis\u001b[39;00m \u001b[38;5;28;01mNone\u001b[39;00m:\n\u001b[1;32m    545\u001b[0m     ts \u001b[38;5;241m=\u001b[39m [t0]\n",
      "File \u001b[0;32m~/codes/Yenni/.env/lib/python3.10/site-packages/scipy/integrate/_ivp/radau.py:290\u001b[0m, in \u001b[0;36mRadau.__init__\u001b[0;34m(self, fun, t0, y0, t_bound, max_step, rtol, atol, jac, jac_sparsity, vectorized, first_step, **extraneous)\u001b[0m\n\u001b[1;32m    288\u001b[0m \u001b[38;5;28mself\u001b[39m\u001b[38;5;241m.\u001b[39mmax_step \u001b[38;5;241m=\u001b[39m validate_max_step(max_step)\n\u001b[1;32m    289\u001b[0m \u001b[38;5;28mself\u001b[39m\u001b[38;5;241m.\u001b[39mrtol, \u001b[38;5;28mself\u001b[39m\u001b[38;5;241m.\u001b[39matol \u001b[38;5;241m=\u001b[39m validate_tol(rtol, atol, \u001b[38;5;28mself\u001b[39m\u001b[38;5;241m.\u001b[39mn)\n\u001b[0;32m--> 290\u001b[0m \u001b[38;5;28mself\u001b[39m\u001b[38;5;241m.\u001b[39mf \u001b[38;5;241m=\u001b[39m \u001b[38;5;28;43mself\u001b[39;49m\u001b[38;5;241;43m.\u001b[39;49m\u001b[43mfun\u001b[49m\u001b[43m(\u001b[49m\u001b[38;5;28;43mself\u001b[39;49m\u001b[38;5;241;43m.\u001b[39;49m\u001b[43mt\u001b[49m\u001b[43m,\u001b[49m\u001b[43m \u001b[49m\u001b[38;5;28;43mself\u001b[39;49m\u001b[38;5;241;43m.\u001b[39;49m\u001b[43my\u001b[49m\u001b[43m)\u001b[49m\n\u001b[1;32m    291\u001b[0m \u001b[38;5;66;03m# Select initial step assuming the same order which is used to control\u001b[39;00m\n\u001b[1;32m    292\u001b[0m \u001b[38;5;66;03m# the error.\u001b[39;00m\n\u001b[1;32m    293\u001b[0m \u001b[38;5;28;01mif\u001b[39;00m first_step \u001b[38;5;129;01mis\u001b[39;00m \u001b[38;5;28;01mNone\u001b[39;00m:\n",
      "File \u001b[0;32m~/codes/Yenni/.env/lib/python3.10/site-packages/scipy/integrate/_ivp/base.py:138\u001b[0m, in \u001b[0;36mOdeSolver.__init__.<locals>.fun\u001b[0;34m(t, y)\u001b[0m\n\u001b[1;32m    136\u001b[0m \u001b[38;5;28;01mdef\u001b[39;00m \u001b[38;5;21mfun\u001b[39m(t, y):\n\u001b[1;32m    137\u001b[0m     \u001b[38;5;28mself\u001b[39m\u001b[38;5;241m.\u001b[39mnfev \u001b[38;5;241m+\u001b[39m\u001b[38;5;241m=\u001b[39m \u001b[38;5;241m1\u001b[39m\n\u001b[0;32m--> 138\u001b[0m     \u001b[38;5;28;01mreturn\u001b[39;00m \u001b[38;5;28;43mself\u001b[39;49m\u001b[38;5;241;43m.\u001b[39;49m\u001b[43mfun_single\u001b[49m\u001b[43m(\u001b[49m\u001b[43mt\u001b[49m\u001b[43m,\u001b[49m\u001b[43m \u001b[49m\u001b[43my\u001b[49m\u001b[43m)\u001b[49m\n",
      "File \u001b[0;32m~/codes/Yenni/.env/lib/python3.10/site-packages/scipy/integrate/_ivp/base.py:20\u001b[0m, in \u001b[0;36mcheck_arguments.<locals>.fun_wrapped\u001b[0;34m(t, y)\u001b[0m\n\u001b[1;32m     19\u001b[0m \u001b[38;5;28;01mdef\u001b[39;00m \u001b[38;5;21mfun_wrapped\u001b[39m(t, y):\n\u001b[0;32m---> 20\u001b[0m     \u001b[38;5;28;01mreturn\u001b[39;00m np\u001b[38;5;241m.\u001b[39masarray(\u001b[43mfun\u001b[49m\u001b[43m(\u001b[49m\u001b[43mt\u001b[49m\u001b[43m,\u001b[49m\u001b[43m \u001b[49m\u001b[43my\u001b[49m\u001b[43m)\u001b[49m, dtype\u001b[38;5;241m=\u001b[39mdtype)\n",
      "File \u001b[0;32m~/codes/Yenni/.env/lib/python3.10/site-packages/scipy/integrate/_ivp/ivp.py:514\u001b[0m, in \u001b[0;36msolve_ivp.<locals>.<lambda>\u001b[0;34m(t, x, fun)\u001b[0m\n\u001b[1;32m    508\u001b[0m t0, tf \u001b[38;5;241m=\u001b[39m \u001b[38;5;28mfloat\u001b[39m(t_span[\u001b[38;5;241m0\u001b[39m]), \u001b[38;5;28mfloat\u001b[39m(t_span[\u001b[38;5;241m1\u001b[39m])\n\u001b[1;32m    510\u001b[0m \u001b[38;5;28;01mif\u001b[39;00m args \u001b[38;5;129;01mis\u001b[39;00m \u001b[38;5;129;01mnot\u001b[39;00m \u001b[38;5;28;01mNone\u001b[39;00m:\n\u001b[1;32m    511\u001b[0m     \u001b[38;5;66;03m# Wrap the user's fun (and jac, if given) in lambdas to hide the\u001b[39;00m\n\u001b[1;32m    512\u001b[0m     \u001b[38;5;66;03m# additional parameters.  Pass in the original fun as a keyword\u001b[39;00m\n\u001b[1;32m    513\u001b[0m     \u001b[38;5;66;03m# argument to keep it in the scope of the lambda.\u001b[39;00m\n\u001b[0;32m--> 514\u001b[0m     fun \u001b[38;5;241m=\u001b[39m \u001b[38;5;28;01mlambda\u001b[39;00m t, x, fun\u001b[38;5;241m=\u001b[39mfun: \u001b[43mfun\u001b[49m\u001b[43m(\u001b[49m\u001b[43mt\u001b[49m\u001b[43m,\u001b[49m\u001b[43m \u001b[49m\u001b[43mx\u001b[49m\u001b[43m,\u001b[49m\u001b[43m \u001b[49m\u001b[38;5;241;43m*\u001b[39;49m\u001b[43margs\u001b[49m\u001b[43m)\u001b[49m\n\u001b[1;32m    515\u001b[0m     jac \u001b[38;5;241m=\u001b[39m options\u001b[38;5;241m.\u001b[39mget(\u001b[38;5;124m'\u001b[39m\u001b[38;5;124mjac\u001b[39m\u001b[38;5;124m'\u001b[39m)\n\u001b[1;32m    516\u001b[0m     \u001b[38;5;28;01mif\u001b[39;00m callable(jac):\n",
      "Cell \u001b[0;32mIn[5], line 11\u001b[0m, in \u001b[0;36mmodel_competitive_LV\u001b[0;34m(t, X, r1, r2, K1, K2, a1, a2)\u001b[0m\n\u001b[1;32m      1\u001b[0m \u001b[38;5;28;01mdef\u001b[39;00m \u001b[38;5;21mmodel_competitive_LV\u001b[39m(\n\u001b[1;32m      2\u001b[0m     t,\n\u001b[1;32m      3\u001b[0m     X,\n\u001b[0;32m   (...)\u001b[0m\n\u001b[1;32m      9\u001b[0m     a2\u001b[38;5;241m=\u001b[39ma2,\n\u001b[1;32m     10\u001b[0m ):\n\u001b[0;32m---> 11\u001b[0m     N1,N2,per_capita1,per_capita2 \u001b[38;5;241m=\u001b[39m X\n\u001b[1;32m     12\u001b[0m     per_capita1\u001b[38;5;241m=\u001b[39mr1\u001b[38;5;241m*\u001b[39m(\u001b[38;5;241m1\u001b[39m\u001b[38;5;241m-\u001b[39m(N1\u001b[38;5;241m+\u001b[39ma2\u001b[38;5;241m*\u001b[39mN2)\u001b[38;5;241m/\u001b[39mK1)\n\u001b[1;32m     13\u001b[0m     per_capita2\u001b[38;5;241m=\u001b[39mr2\u001b[38;5;241m*\u001b[39m(\u001b[38;5;241m1\u001b[39m\u001b[38;5;241m-\u001b[39m(N2\u001b[38;5;241m+\u001b[39ma1\u001b[38;5;241m*\u001b[39mN1)\u001b[38;5;241m/\u001b[39mK2)\n",
      "\u001b[0;31mValueError\u001b[0m: not enough values to unpack (expected 4, got 2)"
     ]
    }
   ],
   "source": [
    "y0 = np.array([5, 5])\n",
    "\n",
    "solution_ODE_competitive_LV = ode_solver_competitive_LV(y0,(t0, tf + days_to_forecast),time_list,r1=r1,r2=r2,K1=K1,K2=K2,a1=a1,a2=a2)\n",
    "t_computed_competitive_LV, y_computed_competitive_LV = solution_ODE_competitive_LV.t, solution_ODE_competitive_LV.y\n",
    "Species1, Species2, per_capita1, per_capita1 = y_computed_competitive_LV"
   ]
  },
  {
   "cell_type": "code",
   "execution_count": null,
   "metadata": {},
   "outputs": [],
   "source": [
    "fig, ax = plt.subplots(figsize=(12, 8))\n",
    "\n",
    "ax.plot(Species1, Species2, linestyle=\"-\", linewidth=10, markersize=12,color=\"g\")\n",
    "ax.plot(Species1[-1], Species2[-1],\"yo\",markersize=20)\n",
    "ax.plot(Species1[0], Species2[0],\"ko\",markersize=20)\n",
    "\n",
    "plt.xlabel(\"Species 1\")\n",
    "plt.ylabel(\"Species 2\")\n",
    "plt.grid()\n",
    "plt.rcParams.update({'font.size': 30})\n",
    "\n",
    "plt.tight_layout()\n",
    "plt.show()"
   ]
  },
  {
   "cell_type": "code",
   "execution_count": null,
   "metadata": {
    "scrolled": false
   },
   "outputs": [],
   "source": [
    "fig, ax = plt.subplots(figsize=(14, 10))\n",
    "\n",
    "ax.plot(time_list, Species1, label=\"Species 1\", linestyle=\"-\", linewidth=10, markersize=12,color=\"b\")\n",
    "ax.plot(time_list, Species2, label=\"Species 2\", linestyle=\"-\", linewidth=10, markersize=12,color=\"r\")\n",
    "\n",
    "plt.xlabel(\"Time\")\n",
    "plt.ylabel(\"Species 1 Biomass\")\n",
    "plt.legend(fancybox=True, shadow=True)\n",
    "#plt.xlim([0, 100])\n",
    "plt.grid()\n",
    "plt.rcParams.update({'font.size': 30})\n",
    "leg = ax.legend(prop={\"size\":28})\n",
    "\n",
    "#plt.savefig('img/Time_series.png', format='png')\n",
    "plt.tight_layout()\n",
    "plt.show()"
   ]
  }
 ],
 "metadata": {
  "jupytext": {
   "formats": "ipynb,py:light"
  },
  "kernelspec": {
   "display_name": "Python 3 (ipykernel)",
   "language": "python",
   "name": "python3"
  },
  "language_info": {
   "codemirror_mode": {
    "name": "ipython",
    "version": 3
   },
   "file_extension": ".py",
   "mimetype": "text/x-python",
   "name": "python",
   "nbconvert_exporter": "python",
   "pygments_lexer": "ipython3",
   "version": "3.10.4"
  }
 },
 "nbformat": 4,
 "nbformat_minor": 4
}
