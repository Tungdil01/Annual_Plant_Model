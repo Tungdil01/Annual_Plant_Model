{
 "cells": [
  {
   "cell_type": "markdown",
   "metadata": {},
   "source": [
    "## Discrete-time competitive Beverton-Holt model"
   ]
  },
  {
   "cell_type": "markdown",
   "metadata": {},
   "source": [
    "\\begin{align}\n",
    "N_{1,t+1}=\\dfrac{r_1N_{1,t}}{1+a_{11}N_{1,t}+a_{12}N_{2,t}} \\\\\n",
    "N_{2,t+1}=\\dfrac{r_2N_{2,t}}{1+a_{22}N_{2,t}+a_{21}N_{1,t}}\n",
    "\\tag{1}\n",
    "\\end{align}"
   ]
  },
  {
   "cell_type": "markdown",
   "metadata": {},
   "source": [
    "## Packages"
   ]
  },
  {
   "cell_type": "code",
   "execution_count": 1,
   "metadata": {},
   "outputs": [],
   "source": [
    "import numpy as np\n",
    "import matplotlib.pyplot as plt"
   ]
  },
  {
   "cell_type": "code",
   "execution_count": 2,
   "metadata": {
    "scrolled": true
   },
   "outputs": [
    {
     "data": {
      "image/png": "[encoded data removed]",
      "text/plain": [
       "<Figure size 10x10 with 1 Axes>"
      ]
     },
     "metadata": {},
     "output_type": "display_data"
    }
   ],
   "source": [
    "# Dummy plot\n",
    "fig, ax = plt.subplots(figsize=(0.1, 0.1))\n",
    "ax.axhline(y=1, color='grey', linestyle='-')\n",
    "plt.rcParams.update({'font.size': 30})"
   ]
  },
  {
   "cell_type": "code",
   "execution_count": 3,
   "metadata": {},
   "outputs": [],
   "source": [
    "# Variables for the per capita growth rate\n",
    "parts=100\n",
    "step=4\n",
    "per_capita1 = np.zeros(2)\n",
    "per_capita2 = np.zeros(2)\n",
    "y1_posterior = np.zeros(2)\n",
    "y2_posterior = np.zeros(2)\n",
    "y_rel1 = np.zeros(2)\n",
    "y_rel2 = np.zeros(2)\n",
    "\n",
    "#cov=np.zeros(2)\n",
    "#final_abundance1=np.zeros(2)\n",
    "#final_abundance2=np.zeros(2)"
   ]
  },
  {
   "cell_type": "code",
   "execution_count": 4,
   "metadata": {},
   "outputs": [],
   "source": [
    "r1=20\n",
    "r2=16\n",
    "a11=2.7\n",
    "a12=0.6\n",
    "a21=0.6\n",
    "a22=0.6"
   ]
  },
  {
   "cell_type": "markdown",
   "metadata": {},
   "source": [
    "## Increasing X = N1 = N2"
   ]
  },
  {
   "cell_type": "markdown",
   "metadata": {},
   "source": [
    "## Discrete-time competitive Beverton-Holt model\n",
    "for i in range(parts):\n",
    "    i=0\n",
    "    stopRun=0\n",
    "    while stopRun==0:\n",
    "        per_capita1[i] = r1 / ( 1 + a11 * y_increasing[i] + a12 * y_increasing[i] )\n",
    "        per_capita2[i] = r2 / ( 1 + a22 * y_increasing[i] + a21 * y_increasing[i] )\n",
    "        y1_posterior[i] = y_increasing[i] * per_capita1[i]\n",
    "        y2_posterior[i] = y_increasing[i] * per_capita2[i]\n",
    "        per_capita1=np.append(per_capita1,per_capita1[i])\n",
    "        per_capita2=np.append(per_capita2,per_capita2[i])\n",
    "        y1_posterior=np.append(y1_posterior,y1_posterior[i])\n",
    "        y2_posterior=np.append(y2_posterior,y2_posterior[i])\n",
    "        # stops the simulation when the dynamics converges\n",
    "        if(np.abs(y1_posterior[i+1]-y1_posterior[i]) and np.abs(y2_posterior[i+1]-y2_posterior[i]) < 0.001):\n",
    "            stopRun=1\n",
    "        i+=1\n",
    "        if i>2000:\n",
    "            continue"
   ]
  },
  {
   "cell_type": "markdown",
   "metadata": {},
   "source": [
    "y_rel1 = np.zeros(len(y_increasing))\n",
    "y_rel2 = np.zeros(len(y_increasing))\n",
    "for i in range(len(y_increasing)):\n",
    "    y_rel1[i]=y1_posterior[i]/(y1_posterior[i]+y2_posterior[i])\n",
    "    y_rel2[i]=y2_posterior[i]/(y1_posterior[i]+y2_posterior[i])"
   ]
  },
  {
   "cell_type": "markdown",
   "metadata": {},
   "source": [
    "## Discrete-time competitive Beverton-Holt model\n",
    "df=open('output.txt','w')\n",
    "df.write(\"r1\" + \"\\t\" + \"r2\" + \"\\t\" + \"a11\" + \"\\t\" + \"a12\" + \"\\t\" + \"a21\" + \"\\t\" + \"a22\" + \"\\t\" + \"X_increasing\" + \"\\t\" + \"N1_final\" + \"\\t\" + \"N2_final\" + \"\\t\" + \"N1_rel_final\" + \"\\t\" + \"N2_rel_final\" + \"\\t\" + \"average_growth1\" + \"\\t\" + \"average_growth2\" + \"\\t\" + \"log_average_growth1\" + \"\\t\" + \"log_average_growth2\" + \"\\t\" + \"S1\" + \"\\t\" + \"S2\" + \"\\n\")\n",
    "for r1 in range(15,21,step):\n",
    "    for r2 in range(11,21,step):\n",
    "        for a11 in np.arange(0.7,3.1,step/10):\n",
    "            for a12 in np.arange(0.1,1.1,step/10):\n",
    "                for a21 in np.arange(0.1,1.1,step/10):\n",
    "                    for a22 in np.arange(0.1,1.1,step/10):\n",
    "                        ## Strength of stabilization\n",
    "                        S1=r2/(1+(a12/a22)*(r2-1))\n",
    "                        S2=r1/(1+(a21/a11)*(r1-1))                     \n",
    "                        ## Discrete-time competitive Beverton-Holt model\n",
    "                        X=0\n",
    "                        for i in range(parts):\n",
    "                            i=0\n",
    "                            stopRun=0\n",
    "                            while stopRun==0:\n",
    "                                # calculate for the current i\n",
    "                                per_capita1[i] = r1 / ( 1 + a11 * X + a12 * X )\n",
    "                                per_capita2[i] = r2 / ( 1 + a22 * X + a21 * X )\n",
    "                                y1_posterior[i] = X * per_capita1[i]\n",
    "                                y2_posterior[i] = X * per_capita2[i]\n",
    "                                y_rel1[i]=y1_posterior[i]/(y1_posterior[i]+y2_posterior[i])\n",
    "                                y_rel2[i]=y2_posterior[i]/(y1_posterior[i]+y2_posterior[i])\n",
    "                                # add the values to the vectors:\n",
    "                                per_capita1=np.append(per_capita1,per_capita1[i])\n",
    "                                per_capita2=np.append(per_capita2,per_capita2[i])\n",
    "                                y1_posterior=np.append(y1_posterior,y1_posterior[i])\n",
    "                                y2_posterior=np.append(y2_posterior,y2_posterior[i])\n",
    "                                y_rel1=np.append(y_rel1,y_rel1[i])\n",
    "                                y_rel2=np.append(y_rel2,y_rel2[i])\n",
    "                                # stops the simulation when the dynamics converges\n",
    "                                if(np.abs(y1_posterior[i+1]-y1_posterior[i]) and np.abs(y2_posterior[i+1]-y2_posterior[i]) < 0.001):\n",
    "                                    stopRun=1\n",
    "                                i+=1\n",
    "                                if i>2000:\n",
    "                                    continue\n",
    "                            X+=0.5\n",
    "                            S=np.array([S1,S2])\n",
    "                            abundance=np.array([np.mean(y1_posterior),np.mean(y2_posterior)])#([y1[-1],y2[-1]]) # mean or final abundance?\n",
    "                            final_abundance1=np.append(final_abundance1,y1_posterior[-1])\n",
    "                            final_abundance2=np.append(final_abundance2,y2_posterior[-1])\n",
    "                            cov=np.append(cov,np.cov(abundance, S)[0][1])\n",
    "                            df.write(str(r1) + \"\\t\" + str(r2) + \"\\t\" + str(a11) + \"\\t\" + str(a12) + \"\\t\" + str(a21) + \"\\t\" + str(a22) + \"\\t\" + str(X) + \"\\t\" + str(y1_posterior[-1]) + \"\\t\" + str(y2_posterior[-1]) + \"\\t\" + str(y_rel1) + \"\\t\" + str(y_rel2) + \"\\t\" + str((np.average(per_capita1))) + \"\\t\" + str((np.average(per_capita2))) + \"\\t\" + str(np.log(np.average(per_capita1))) + \"\\t\" + str(np.log(np.average(per_capita2))) + \"\\t\" + str(S1) + \"\\t\" + str(S2))\n",
    "                            df.write('\\n')\n",
    "df.close()"
   ]
  },
  {
   "cell_type": "markdown",
   "metadata": {},
   "source": [
    "## Discrete-time competitive Beverton-Holt model\n",
    "df=open('output.txt','w')\n",
    "df.write(\"r1\" + \"\\t\" + \"r2\" + \"\\t\" + \"a11\" + \"\\t\" + \"a12\" + \"\\t\" + \"a21\" + \"\\t\" + \"a22\" + \"\\t\" + \"X_increase\" + \"\\t\" + \"N1\" + \"\\t\" + \"N2\" + \"\\t\" + \"N1_rel\" + \"\\t\" + \"N2_rel\" + \"\\t\" + \"S1\" + \"\\t\" + \"S2\" + \"\\n\")\n",
    "for r1 in range(15,21,step):\n",
    "    for r2 in range(11,21,step):\n",
    "        for a11 in np.arange(0.7,3.1,step/10):\n",
    "            for a12 in np.arange(0.1,1.1,step/10):\n",
    "                for a21 in np.arange(0.1,1.1,step/10):\n",
    "                    for a22 in np.arange(0.1,1.1,step/10):\n",
    "                        ## Strength of stabilization\n",
    "                        S1=r2/(1+(a12/a22)*(r2-1))\n",
    "                        S2=r1/(1+(a21/a11)*(r1-1))                     \n",
    "                        ## Discrete-time competitive Beverton-Holt model\n",
    "                        X=0\n",
    "                        for i in range(parts):\n",
    "                            X+=int(parts/10)\n",
    "                            # calculate for the current i\n",
    "                            per_capita1[i] = r1 / ( 1 + a11 * X + a12 * X )\n",
    "                            per_capita2[i] = r2 / ( 1 + a22 * X + a21 * X )\n",
    "                            y1_posterior[i] = X * per_capita1[i]\n",
    "                            y2_posterior[i] = X * per_capita2[i]\n",
    "                            y_rel1[i]=y1_posterior[i]/(y1_posterior[i]+y2_posterior[i])\n",
    "                            y_rel2[i]=y2_posterior[i]/(y1_posterior[i]+y2_posterior[i])\n",
    "                            S=np.array([S1,S2])\n",
    "#                            print(y1_posterior[i+1],y1_posterior[i])\n",
    "#                        abundance=np.array([np.mean(y1_posterior),np.mean(y2_posterior)])#([y1[-1],y2[-1]]) # mean or final abundance?\n",
    "#                        final_abundance1=np.append(final_abundance1,y1_posterior[-1])\n",
    "#                        final_abundance2=np.append(final_abundance2,y2_posterior[-1])\n",
    "#                        cov=np.append(cov,np.cov(abundance, S)[0][1])\n",
    "                            df.write(str(r1) + \"\\t\" + str(r2) + \"\\t\" + str(a11) + \"\\t\" + str(a12) + \"\\t\" + str(a21) + \"\\t\" + str(a22) + \"\\t\" + str(X) + \"\\t\" + str(y1_posterior[i]) + \"\\t\" + str(y2_posterior[i]) + \"\\t\" + str(y_rel1[i]) + \"\\t\" + str(y_rel2[i]) + \"\\t\" + str(S1) + \"\\t\" + str(S2))\n",
    "                            df.write('\\n')\n",
    "df.close()"
   ]
  },
  {
   "cell_type": "code",
   "execution_count": 5,
   "metadata": {},
   "outputs": [],
   "source": [
    "## Discrete-time competitive Beverton-Holt model\n",
    "df=open('output.txt','w')\n",
    "df.write(\"r1\" + \"\\t\" + \"r2\" + \"\\t\" + \"a11\" + \"\\t\" + \"a12\" + \"\\t\" + \"a21\" + \"\\t\" + \"a22\" + \"\\t\" + \"X_increase\" + \"\\t\" + \"N1\" + \"\\t\" + \"N2\" + \"\\t\" + \"per_capita1\" + \"\\t\" + \"per_capita2\" + \"\\t\" + \"N1_rel\" + \"\\t\" + \"N2_rel\" + \"\\t\" + \"S1\" + \"\\t\" + \"S2\" + \"\\n\")\n",
    "for r1 in range(15,21,step):\n",
    "    for r2 in range(11,21,step):\n",
    "        for a11 in np.arange(0.7,3.1,step/10):\n",
    "            for a12 in np.arange(0.1,1.1,step/10):\n",
    "                for a21 in np.arange(0.1,1.1,step/10):\n",
    "                    for a22 in np.arange(0.1,1.1,step/10):\n",
    "                        ## Strength of stabilization\n",
    "                        S1=r2/(1+(a12/a22)*(r2-1))\n",
    "                        S2=r1/(1+(a21/a11)*(r1-1))                     \n",
    "                        ## Discrete-time competitive Beverton-Holt model\n",
    "                        X=0\n",
    "                        i=0\n",
    "                        stopRun=0\n",
    "                        while stopRun==0:\n",
    "                            X+=0.5#int(parts/10)\n",
    "                            # calculate for the current i\n",
    "                            per_capita1[i] = r1 / ( 1 + a11 * X + a12 * X )\n",
    "                            per_capita2[i] = r2 / ( 1 + a22 * X + a21 * X )\n",
    "                            y1_posterior[i] = X * per_capita1[i]\n",
    "                            y2_posterior[i] = X * per_capita2[i]\n",
    "                            y_rel1[i]=y1_posterior[i]/(y1_posterior[i]+y2_posterior[i])\n",
    "                            y_rel2[i]=y2_posterior[i]/(y1_posterior[i]+y2_posterior[i])\n",
    "                            # add the values to the vectors:\n",
    "                            per_capita1=np.append(per_capita1,per_capita1[i])\n",
    "                            per_capita2=np.append(per_capita2,per_capita2[i])\n",
    "                            y1_posterior=np.append(y1_posterior,y1_posterior[i])\n",
    "                            y2_posterior=np.append(y2_posterior,y2_posterior[i])\n",
    "                            y_rel1=np.append(y_rel1,y_rel1[i])\n",
    "                            y_rel2=np.append(y_rel2,y_rel2[i])\n",
    "#                            S=np.array([S1,S2])\n",
    "                            df.write(str(r1) + \"\\t\" + str(r2) + \"\\t\" + str(a11) + \"\\t\" + str(a12) + \"\\t\" + str(a21) + \"\\t\" + str(a22) + \"\\t\" + str(X) + \"\\t\" + str(y1_posterior[i]) + \"\\t\" + str(y2_posterior[i])+ \"\\t\" + str(per_capita1[i]) + \"\\t\" + str(per_capita2[i]) + \"\\t\" + str(y_rel1[i]) + \"\\t\" + str(y_rel2[i]) + \"\\t\" + str(S1) + \"\\t\" + str(S2))\n",
    "                            df.write('\\n')\n",
    "                            # stops the simulation when the increase of X doesn't alter\n",
    "#                            print(y1_posterior[i],y1_posterior[i-1],np.abs(y1_posterior[i]-y1_posterior[i-1]))\n",
    "                            if(np.abs(y1_posterior[i]-y1_posterior[i-1]) and np.abs(y2_posterior[i]-y2_posterior[i-1]) < 0.1):\n",
    "                                stopRun=1\n",
    "                            i+=1\n",
    "                            if i>2000:\n",
    "                                continue\n",
    "#                        abundance=np.array([np.mean(y1_posterior),np.mean(y2_posterior)])#([y1[-1],y2[-1]]) # mean or final abundance?\n",
    "#                        final_abundance1=np.append(final_abundance1,y1_posterior[-1])\n",
    "#                        final_abundance2=np.append(final_abundance2,y2_posterior[-1])\n",
    "#                        cov=np.append(cov,np.cov(abundance, S)[0][1])\n",
    "df.close()"
   ]
  },
  {
   "cell_type": "code",
   "execution_count": 6,
   "metadata": {},
   "outputs": [
    {
     "ename": "NameError",
     "evalue": "name 'stop' is not defined",
     "output_type": "error",
     "traceback": [
      "\u001b[0;31m---------------------------------------------------------------------------\u001b[0m",
      "\u001b[0;31mNameError\u001b[0m                                 Traceback (most recent call last)",
      "Cell \u001b[0;32mIn[6], line 1\u001b[0m\n\u001b[0;32m----> 1\u001b[0m \u001b[43mstop\u001b[49m\n",
      "\u001b[0;31mNameError\u001b[0m: name 'stop' is not defined"
     ]
    }
   ],
   "source": [
    "stop"
   ]
  },
  {
   "cell_type": "code",
   "execution_count": null,
   "metadata": {},
   "outputs": [],
   "source": [
    "time = np.linspace(1,parts,parts)\n",
    "\n",
    "fig, (ax) = plt.subplots(1,figsize=(8, 6))\n",
    "ax.plot(time, y1_posterior, alpha=0.5,linestyle=\"--\", linewidth=10, markersize=12, color=\"r\", label='$N_{1}$')\n",
    "ax.plot(time, y2_posterior, alpha=0.5,linestyle=\"--\", linewidth=10, markersize=12, color=\"b\", label='$N_{2}$')\n",
    "ax.set(xlabel='Time (days)', ylabel='$N_{t}$')\n",
    "ax.legend()\n",
    "plt.rcParams.update({'font.size': 30})\n",
    "ax.set_title('r1='+str(r1)+',r2='+str(r2)+',a11='+str(a11)+',a12='+str(a12)+',a21='+str(a21)+',a22='+str(a22), fontsize=25)\n",
    "plt.tight_layout()\n",
    "plt.savefig('img/time_series_r1_'+str(r1)+'_r2_'+str(r2)+'_a11_'+str(a11)+'_a12_'+str(a12)+'_a21_'+str(a21)+'_a22_'+str(a22)+'.png', format='png', dpi=50)\n",
    "plt.show()"
   ]
  },
  {
   "cell_type": "code",
   "execution_count": null,
   "metadata": {},
   "outputs": [],
   "source": [
    "fig, ax = plt.subplots(1,figsize=(8, 6))\n",
    "ax.plot(y_increasing, np.log(per_capita1), alpha=0.5,linestyle=\"--\", linewidth=10, markersize=12, color=\"r\")\n",
    "ax.plot(y_increasing, np.log(per_capita2), alpha=0.5,linestyle=\"--\", linewidth=10, markersize=12, color=\"b\")\n",
    "ax.axhline(y=0, color='grey', linestyle='-')\n",
    "ax.set(xlabel='$N_{t}$',ylabel='$log(N_{1,t+1}/N_{1,t})$')\n",
    "plt.rcParams.update({'font.size': 30})\n",
    "ax.set_title('r1='+str(r1)+',r2='+str(r2)+',a11='+str(a11)+',a12='+str(a12)+',a21='+str(a21)+',a22='+str(a22), fontsize=25)\n",
    "plt.tight_layout()\n",
    "plt.savefig('img/increasing_PGR_r1_'+str(r1)+'_r2_'+str(r2)+'_a11_'+str(a11)+'_a12_'+str(a12)+'_a21_'+str(a21)+'_a22_'+str(a22)+'.png', format='png', dpi=50)\n",
    "plt.show()"
   ]
  },
  {
   "cell_type": "code",
   "execution_count": null,
   "metadata": {},
   "outputs": [],
   "source": [
    "fig, ax = plt.subplots(1,figsize=(8, 6))\n",
    "ax.plot(y_rel1, np.log(per_capita1), alpha=0.5,linestyle=\"--\", linewidth=10, markersize=12, color=\"r\")\n",
    "ax.plot(y_rel2, np.log(per_capita2), alpha=0.5,linestyle=\"--\", linewidth=10, markersize=12, color=\"b\")\n",
    "ax.axhline(y=0, color='grey', linestyle='-')\n",
    "ax.set(xlabel='Relative frequency',ylabel='$log(N_{1,t+1}/N_{1,t})$')\n",
    "plt.rcParams.update({'font.size': 30})\n",
    "ax.set_title('r1='+str(r1)+',r2='+str(r2)+',a11='+str(a11)+',a12='+str(a12)+',a21='+str(a21)+',a22='+str(a22), fontsize=25)\n",
    "plt.tight_layout()\n",
    "plt.savefig('img/increasing_yenni_r1_'+str(r1)+'_r2_'+str(r2)+'_a11_'+str(a11)+'_a12_'+str(a12)+'_a21_'+str(a21)+'_a22_'+str(a22)+'.png', format='png', dpi=50)\n",
    "plt.show()"
   ]
  },
  {
   "cell_type": "markdown",
   "metadata": {},
   "source": [
    "## Finite Growth Rate and Stock Recruitment Curve"
   ]
  },
  {
   "cell_type": "code",
   "execution_count": null,
   "metadata": {},
   "outputs": [],
   "source": [
    "fig, (ax1,ax2) = plt.subplots(2,figsize=(14, 10))\n",
    "# Finite Growth Rate\n",
    "ax1.plot(y_increasing, np.log(per_capita1), alpha=0.5,linestyle=\"dotted\", linewidth=10, markersize=12, color=\"r\")\n",
    "ax1.set(ylabel='$log(N_{t+1}/N_{t})$')\n",
    "ax1.set_xlim([-1, 20])\n",
    "ax1.plot(y_increasing, np.log(per_capita2), alpha=0.5,linestyle=\"dotted\", linewidth=10, markersize=12, color=\"b\")\n",
    "ax1.axhline(y=0, color='grey', linestyle='-')\n",
    "# Stock-Recruitment\n",
    "ax2.plot(y_increasing, y1_posterior, alpha=0.5,linestyle=\"dotted\", linewidth=10, markersize=12, color=\"r\")\n",
    "ax2.plot(y_increasing,y_increasing, color=\"grey\") # add a straight line\n",
    "ax2.set_xlim([-1, 20])\n",
    "ax2.set_ylim([-1, 15])\n",
    "ax2.set(xlabel='$N_{t}$', ylabel='$N_{t+1}$')\n",
    "ax2.plot(y_increasing, y2_posterior, alpha=0.5,linestyle=\"dotted\", linewidth=10, markersize=12, color=\"b\")\n",
    "ax2.plot(y_increasing,y_increasing, color=\"grey\") # add a straight line\n",
    "plt.rcParams.update({'font.size': 30})\n",
    "ax1.set_title('r1='+str(r1)+',r2='+str(r2)+',a11='+str(a11)+',a12='+str(a12)+',a21='+str(a21)+',a22='+str(a22), fontsize=25)\n",
    "plt.tight_layout(pad=0)\n",
    "plt.savefig('img/increasing_finite_growth_rate_r1_'+str(r1)+'_r2_'+str(r2)+'_a11_'+str(a11)+'_a12_'+str(a12)+'_a21_'+str(a21)+'_a22_'+str(a22)+'.png', format='png', dpi=50, bbox_inches='tight')\n",
    "plt.show()"
   ]
  }
 ],
 "metadata": {
  "jupytext": {
   "formats": "ipynb,py:light"
  },
  "kernelspec": {
   "display_name": "Python 3 (ipykernel)",
   "language": "python",
   "name": "python3"
  },
  "language_info": {
   "codemirror_mode": {
    "name": "ipython",
    "version": 3
   },
   "file_extension": ".py",
   "mimetype": "text/x-python",
   "name": "python",
   "nbconvert_exporter": "python",
   "pygments_lexer": "ipython3",
   "version": "3.10.4"
  }
 },
 "nbformat": 4,
 "nbformat_minor": 4
}
